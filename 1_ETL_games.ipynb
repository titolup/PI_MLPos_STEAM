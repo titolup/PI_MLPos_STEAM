{
 "cells": [
  {
   "cell_type": "markdown",
   "metadata": {},
   "source": [
    "##*Extracción, Transformación y Carga (ETL) Output_Steam_Games*"
   ]
  },
  {
   "cell_type": "markdown",
   "metadata": {},
   "source": [
    "###Importando Librerias"
   ]
  },
  {
   "cell_type": "code",
   "execution_count": 142,
   "metadata": {},
   "outputs": [],
   "source": [
    "import json\n",
    "import numpy as np\n",
    "import pandas as pd\n",
    "import matplotlib.pyplot as plt \n",
    "import seaborn as sns\n",
    "import pyarrow as pa\n",
    "import pyarrow.parquet as pq"
   ]
  },
  {
   "cell_type": "markdown",
   "metadata": {},
   "source": [
    "###Extracción de data y Exploracion"
   ]
  },
  {
   "cell_type": "code",
   "execution_count": 143,
   "metadata": {},
   "outputs": [
    {
     "data": {
      "text/html": [
       "<div>\n",
       "<style scoped>\n",
       "    .dataframe tbody tr th:only-of-type {\n",
       "        vertical-align: middle;\n",
       "    }\n",
       "\n",
       "    .dataframe tbody tr th {\n",
       "        vertical-align: top;\n",
       "    }\n",
       "\n",
       "    .dataframe thead th {\n",
       "        text-align: right;\n",
       "    }\n",
       "</style>\n",
       "<table border=\"1\" class=\"dataframe\">\n",
       "  <thead>\n",
       "    <tr style=\"text-align: right;\">\n",
       "      <th></th>\n",
       "      <th>publisher</th>\n",
       "      <th>genres</th>\n",
       "      <th>app_name</th>\n",
       "      <th>title</th>\n",
       "      <th>url</th>\n",
       "      <th>release_date</th>\n",
       "      <th>tags</th>\n",
       "      <th>reviews_url</th>\n",
       "      <th>specs</th>\n",
       "      <th>price</th>\n",
       "      <th>early_access</th>\n",
       "      <th>id</th>\n",
       "      <th>developer</th>\n",
       "    </tr>\n",
       "  </thead>\n",
       "  <tbody>\n",
       "    <tr>\n",
       "      <th>0</th>\n",
       "      <td>NaN</td>\n",
       "      <td>NaN</td>\n",
       "      <td>NaN</td>\n",
       "      <td>NaN</td>\n",
       "      <td>NaN</td>\n",
       "      <td>NaN</td>\n",
       "      <td>NaN</td>\n",
       "      <td>NaN</td>\n",
       "      <td>NaN</td>\n",
       "      <td>NaN</td>\n",
       "      <td>NaN</td>\n",
       "      <td>NaN</td>\n",
       "      <td>NaN</td>\n",
       "    </tr>\n",
       "    <tr>\n",
       "      <th>1</th>\n",
       "      <td>NaN</td>\n",
       "      <td>NaN</td>\n",
       "      <td>NaN</td>\n",
       "      <td>NaN</td>\n",
       "      <td>NaN</td>\n",
       "      <td>NaN</td>\n",
       "      <td>NaN</td>\n",
       "      <td>NaN</td>\n",
       "      <td>NaN</td>\n",
       "      <td>NaN</td>\n",
       "      <td>NaN</td>\n",
       "      <td>NaN</td>\n",
       "      <td>NaN</td>\n",
       "    </tr>\n",
       "    <tr>\n",
       "      <th>2</th>\n",
       "      <td>NaN</td>\n",
       "      <td>NaN</td>\n",
       "      <td>NaN</td>\n",
       "      <td>NaN</td>\n",
       "      <td>NaN</td>\n",
       "      <td>NaN</td>\n",
       "      <td>NaN</td>\n",
       "      <td>NaN</td>\n",
       "      <td>NaN</td>\n",
       "      <td>NaN</td>\n",
       "      <td>NaN</td>\n",
       "      <td>NaN</td>\n",
       "      <td>NaN</td>\n",
       "    </tr>\n",
       "    <tr>\n",
       "      <th>3</th>\n",
       "      <td>NaN</td>\n",
       "      <td>NaN</td>\n",
       "      <td>NaN</td>\n",
       "      <td>NaN</td>\n",
       "      <td>NaN</td>\n",
       "      <td>NaN</td>\n",
       "      <td>NaN</td>\n",
       "      <td>NaN</td>\n",
       "      <td>NaN</td>\n",
       "      <td>NaN</td>\n",
       "      <td>NaN</td>\n",
       "      <td>NaN</td>\n",
       "      <td>NaN</td>\n",
       "    </tr>\n",
       "    <tr>\n",
       "      <th>4</th>\n",
       "      <td>NaN</td>\n",
       "      <td>NaN</td>\n",
       "      <td>NaN</td>\n",
       "      <td>NaN</td>\n",
       "      <td>NaN</td>\n",
       "      <td>NaN</td>\n",
       "      <td>NaN</td>\n",
       "      <td>NaN</td>\n",
       "      <td>NaN</td>\n",
       "      <td>NaN</td>\n",
       "      <td>NaN</td>\n",
       "      <td>NaN</td>\n",
       "      <td>NaN</td>\n",
       "    </tr>\n",
       "    <tr>\n",
       "      <th>...</th>\n",
       "      <td>...</td>\n",
       "      <td>...</td>\n",
       "      <td>...</td>\n",
       "      <td>...</td>\n",
       "      <td>...</td>\n",
       "      <td>...</td>\n",
       "      <td>...</td>\n",
       "      <td>...</td>\n",
       "      <td>...</td>\n",
       "      <td>...</td>\n",
       "      <td>...</td>\n",
       "      <td>...</td>\n",
       "      <td>...</td>\n",
       "    </tr>\n",
       "    <tr>\n",
       "      <th>120440</th>\n",
       "      <td>Ghost_RUS Games</td>\n",
       "      <td>[Casual, Indie, Simulation, Strategy]</td>\n",
       "      <td>Colony On Mars</td>\n",
       "      <td>Colony On Mars</td>\n",
       "      <td>http://store.steampowered.com/app/773640/Colon...</td>\n",
       "      <td>2018-01-04</td>\n",
       "      <td>[Strategy, Indie, Casual, Simulation]</td>\n",
       "      <td>http://steamcommunity.com/app/773640/reviews/?...</td>\n",
       "      <td>[Single-player, Steam Achievements]</td>\n",
       "      <td>1.99</td>\n",
       "      <td>False</td>\n",
       "      <td>773640</td>\n",
       "      <td>Nikita \"Ghost_RUS\"</td>\n",
       "    </tr>\n",
       "    <tr>\n",
       "      <th>120441</th>\n",
       "      <td>Sacada</td>\n",
       "      <td>[Casual, Indie, Strategy]</td>\n",
       "      <td>LOGistICAL: South Africa</td>\n",
       "      <td>LOGistICAL: South Africa</td>\n",
       "      <td>http://store.steampowered.com/app/733530/LOGis...</td>\n",
       "      <td>2018-01-04</td>\n",
       "      <td>[Strategy, Indie, Casual]</td>\n",
       "      <td>http://steamcommunity.com/app/733530/reviews/?...</td>\n",
       "      <td>[Single-player, Steam Achievements, Steam Clou...</td>\n",
       "      <td>4.99</td>\n",
       "      <td>False</td>\n",
       "      <td>733530</td>\n",
       "      <td>Sacada</td>\n",
       "    </tr>\n",
       "    <tr>\n",
       "      <th>120442</th>\n",
       "      <td>Laush Studio</td>\n",
       "      <td>[Indie, Racing, Simulation]</td>\n",
       "      <td>Russian Roads</td>\n",
       "      <td>Russian Roads</td>\n",
       "      <td>http://store.steampowered.com/app/610660/Russi...</td>\n",
       "      <td>2018-01-04</td>\n",
       "      <td>[Indie, Simulation, Racing]</td>\n",
       "      <td>http://steamcommunity.com/app/610660/reviews/?...</td>\n",
       "      <td>[Single-player, Steam Achievements, Steam Trad...</td>\n",
       "      <td>1.99</td>\n",
       "      <td>False</td>\n",
       "      <td>610660</td>\n",
       "      <td>Laush Dmitriy Sergeevich</td>\n",
       "    </tr>\n",
       "    <tr>\n",
       "      <th>120443</th>\n",
       "      <td>SIXNAILS</td>\n",
       "      <td>[Casual, Indie]</td>\n",
       "      <td>EXIT 2 - Directions</td>\n",
       "      <td>EXIT 2 - Directions</td>\n",
       "      <td>http://store.steampowered.com/app/658870/EXIT_...</td>\n",
       "      <td>2017-09-02</td>\n",
       "      <td>[Indie, Casual, Puzzle, Singleplayer, Atmosphe...</td>\n",
       "      <td>http://steamcommunity.com/app/658870/reviews/?...</td>\n",
       "      <td>[Single-player, Steam Achievements, Steam Cloud]</td>\n",
       "      <td>4.99</td>\n",
       "      <td>False</td>\n",
       "      <td>658870</td>\n",
       "      <td>xropi,stev3ns</td>\n",
       "    </tr>\n",
       "    <tr>\n",
       "      <th>120444</th>\n",
       "      <td>NaN</td>\n",
       "      <td>NaN</td>\n",
       "      <td>Maze Run VR</td>\n",
       "      <td>NaN</td>\n",
       "      <td>http://store.steampowered.com/app/681550/Maze_...</td>\n",
       "      <td>NaN</td>\n",
       "      <td>[Early Access, Adventure, Indie, Action, Simul...</td>\n",
       "      <td>http://steamcommunity.com/app/681550/reviews/?...</td>\n",
       "      <td>[Single-player, Stats, Steam Leaderboards, HTC...</td>\n",
       "      <td>4.99</td>\n",
       "      <td>True</td>\n",
       "      <td>681550</td>\n",
       "      <td>NaN</td>\n",
       "    </tr>\n",
       "  </tbody>\n",
       "</table>\n",
       "<p>120445 rows × 13 columns</p>\n",
       "</div>"
      ],
      "text/plain": [
       "              publisher                                 genres  \\\n",
       "0                   NaN                                    NaN   \n",
       "1                   NaN                                    NaN   \n",
       "2                   NaN                                    NaN   \n",
       "3                   NaN                                    NaN   \n",
       "4                   NaN                                    NaN   \n",
       "...                 ...                                    ...   \n",
       "120440  Ghost_RUS Games  [Casual, Indie, Simulation, Strategy]   \n",
       "120441           Sacada              [Casual, Indie, Strategy]   \n",
       "120442     Laush Studio            [Indie, Racing, Simulation]   \n",
       "120443         SIXNAILS                        [Casual, Indie]   \n",
       "120444              NaN                                    NaN   \n",
       "\n",
       "                        app_name                     title  \\\n",
       "0                            NaN                       NaN   \n",
       "1                            NaN                       NaN   \n",
       "2                            NaN                       NaN   \n",
       "3                            NaN                       NaN   \n",
       "4                            NaN                       NaN   \n",
       "...                          ...                       ...   \n",
       "120440            Colony On Mars            Colony On Mars   \n",
       "120441  LOGistICAL: South Africa  LOGistICAL: South Africa   \n",
       "120442             Russian Roads             Russian Roads   \n",
       "120443       EXIT 2 - Directions       EXIT 2 - Directions   \n",
       "120444               Maze Run VR                       NaN   \n",
       "\n",
       "                                                      url release_date  \\\n",
       "0                                                     NaN          NaN   \n",
       "1                                                     NaN          NaN   \n",
       "2                                                     NaN          NaN   \n",
       "3                                                     NaN          NaN   \n",
       "4                                                     NaN          NaN   \n",
       "...                                                   ...          ...   \n",
       "120440  http://store.steampowered.com/app/773640/Colon...   2018-01-04   \n",
       "120441  http://store.steampowered.com/app/733530/LOGis...   2018-01-04   \n",
       "120442  http://store.steampowered.com/app/610660/Russi...   2018-01-04   \n",
       "120443  http://store.steampowered.com/app/658870/EXIT_...   2017-09-02   \n",
       "120444  http://store.steampowered.com/app/681550/Maze_...          NaN   \n",
       "\n",
       "                                                     tags  \\\n",
       "0                                                     NaN   \n",
       "1                                                     NaN   \n",
       "2                                                     NaN   \n",
       "3                                                     NaN   \n",
       "4                                                     NaN   \n",
       "...                                                   ...   \n",
       "120440              [Strategy, Indie, Casual, Simulation]   \n",
       "120441                          [Strategy, Indie, Casual]   \n",
       "120442                        [Indie, Simulation, Racing]   \n",
       "120443  [Indie, Casual, Puzzle, Singleplayer, Atmosphe...   \n",
       "120444  [Early Access, Adventure, Indie, Action, Simul...   \n",
       "\n",
       "                                              reviews_url  \\\n",
       "0                                                     NaN   \n",
       "1                                                     NaN   \n",
       "2                                                     NaN   \n",
       "3                                                     NaN   \n",
       "4                                                     NaN   \n",
       "...                                                   ...   \n",
       "120440  http://steamcommunity.com/app/773640/reviews/?...   \n",
       "120441  http://steamcommunity.com/app/733530/reviews/?...   \n",
       "120442  http://steamcommunity.com/app/610660/reviews/?...   \n",
       "120443  http://steamcommunity.com/app/658870/reviews/?...   \n",
       "120444  http://steamcommunity.com/app/681550/reviews/?...   \n",
       "\n",
       "                                                    specs price early_access  \\\n",
       "0                                                     NaN   NaN          NaN   \n",
       "1                                                     NaN   NaN          NaN   \n",
       "2                                                     NaN   NaN          NaN   \n",
       "3                                                     NaN   NaN          NaN   \n",
       "4                                                     NaN   NaN          NaN   \n",
       "...                                                   ...   ...          ...   \n",
       "120440                [Single-player, Steam Achievements]  1.99        False   \n",
       "120441  [Single-player, Steam Achievements, Steam Clou...  4.99        False   \n",
       "120442  [Single-player, Steam Achievements, Steam Trad...  1.99        False   \n",
       "120443   [Single-player, Steam Achievements, Steam Cloud]  4.99        False   \n",
       "120444  [Single-player, Stats, Steam Leaderboards, HTC...  4.99         True   \n",
       "\n",
       "            id                 developer  \n",
       "0          NaN                       NaN  \n",
       "1          NaN                       NaN  \n",
       "2          NaN                       NaN  \n",
       "3          NaN                       NaN  \n",
       "4          NaN                       NaN  \n",
       "...        ...                       ...  \n",
       "120440  773640        Nikita \"Ghost_RUS\"  \n",
       "120441  733530                    Sacada  \n",
       "120442  610660  Laush Dmitriy Sergeevich  \n",
       "120443  658870             xropi,stev3ns  \n",
       "120444  681550                       NaN  \n",
       "\n",
       "[120445 rows x 13 columns]"
      ]
     },
     "execution_count": 143,
     "metadata": {},
     "output_type": "execute_result"
    }
   ],
   "source": [
    "#extraccion del json\n",
    "row = [] #lista vacia para ir guardando las filas\n",
    "with open (\"output_steam_games.json\") as file: #utilizo with para que el archivo se abra y cierre\n",
    "    for line in file.readlines(): #bucle para ir leyendo filas y luego agregarlas a row\n",
    "        data = json.loads(line)\n",
    "        row.append(data)\n",
    "\n",
    "# genero el dataframe \n",
    "games = pd.DataFrame(row)\n",
    "games"
   ]
  },
  {
   "cell_type": "code",
   "execution_count": 144,
   "metadata": {},
   "outputs": [
    {
     "data": {
      "text/plain": [
       "(120445, 13)"
      ]
     },
     "execution_count": 144,
     "metadata": {},
     "output_type": "execute_result"
    }
   ],
   "source": [
    "games.shape # Nos devuelve la cantidad de filas y columnas que tiene nuestro archivo"
   ]
  },
  {
   "cell_type": "code",
   "execution_count": 145,
   "metadata": {},
   "outputs": [
    {
     "name": "stdout",
     "output_type": "stream",
     "text": [
      "<class 'pandas.core.frame.DataFrame'>\n",
      "RangeIndex: 120445 entries, 0 to 120444\n",
      "Data columns (total 13 columns):\n",
      " #   Column        Non-Null Count  Dtype \n",
      "---  ------        --------------  ----- \n",
      " 0   publisher     24083 non-null  object\n",
      " 1   genres        28852 non-null  object\n",
      " 2   app_name      32133 non-null  object\n",
      " 3   title         30085 non-null  object\n",
      " 4   url           32135 non-null  object\n",
      " 5   release_date  30068 non-null  object\n",
      " 6   tags          31972 non-null  object\n",
      " 7   reviews_url   32133 non-null  object\n",
      " 8   specs         31465 non-null  object\n",
      " 9   price         30758 non-null  object\n",
      " 10  early_access  32135 non-null  object\n",
      " 11  id            32133 non-null  object\n",
      " 12  developer     28836 non-null  object\n",
      "dtypes: object(13)\n",
      "memory usage: 11.9+ MB\n"
     ]
    }
   ],
   "source": [
    "games.info() #Nos devuelve la cantidad de filas y columnas que tiene nuestro archivo"
   ]
  },
  {
   "cell_type": "code",
   "execution_count": 146,
   "metadata": {},
   "outputs": [
    {
     "data": {
      "text/plain": [
       "73.31977251027439"
      ]
     },
     "execution_count": 146,
     "metadata": {},
     "output_type": "execute_result"
    }
   ],
   "source": [
    "# revisamos el porcentaje de filas completamente nulas respecto al total de filas del dataframe\n",
    "total_filas = len(games)\n",
    "filas_nulas = games.isnull().all(axis=1).sum()\n",
    "porcentaje_filas_nulas = (filas_nulas / total_filas) * 100\n",
    "porcentaje_filas_nulas"
   ]
  },
  {
   "cell_type": "code",
   "execution_count": 147,
   "metadata": {},
   "outputs": [
    {
     "data": {
      "text/plain": [
       "publisher       80.004982\n",
       "genres          76.045498\n",
       "app_name        73.321433\n",
       "title           75.021794\n",
       "url             73.319773\n",
       "release_date    75.035909\n",
       "tags            73.455104\n",
       "reviews_url     73.321433\n",
       "specs           73.876043\n",
       "price           74.463033\n",
       "early_access    73.319773\n",
       "id              73.321433\n",
       "developer       76.058782\n",
       "dtype: float64"
      ]
     },
     "execution_count": 147,
     "metadata": {},
     "output_type": "execute_result"
    }
   ],
   "source": [
    "# verificamos el porcentaje de nulos por columna para tomar decisiones\n",
    "total_filas = len(games)\n",
    "nulos_por_columna = games.isnull().sum()\n",
    "porcentaje_nulos_por_columna = (nulos_por_columna / total_filas) * 100\n",
    "porcentaje_nulos_por_columna"
   ]
  },
  {
   "cell_type": "markdown",
   "metadata": {},
   "source": [
    "La cantidad de filas con valores completamente nulos representa un 73 % del total del dataframe.\n"
   ]
  },
  {
   "cell_type": "markdown",
   "metadata": {},
   "source": [
    "###Buscamos nulos y duplicados"
   ]
  },
  {
   "cell_type": "code",
   "execution_count": 148,
   "metadata": {},
   "outputs": [
    {
     "data": {
      "text/plain": [
       "publisher       96362\n",
       "genres          91593\n",
       "app_name        88312\n",
       "title           90360\n",
       "url             88310\n",
       "release_date    90377\n",
       "tags            88473\n",
       "reviews_url     88312\n",
       "specs           88980\n",
       "price           89687\n",
       "early_access    88310\n",
       "id              88312\n",
       "developer       91609\n",
       "dtype: int64"
      ]
     },
     "execution_count": 148,
     "metadata": {},
     "output_type": "execute_result"
    }
   ],
   "source": [
    "nulos_por_columna = games.isnull().sum() # Obtenemos la cantidad de nulos por columna\n",
    "nulos_por_columna"
   ]
  },
  {
   "cell_type": "code",
   "execution_count": 149,
   "metadata": {},
   "outputs": [
    {
     "data": {
      "text/plain": [
       "publisher       96362\n",
       "genres          91593\n",
       "app_name        88312\n",
       "title           90360\n",
       "url             88310\n",
       "release_date    90377\n",
       "tags            88473\n",
       "reviews_url     88312\n",
       "specs           88980\n",
       "price           89687\n",
       "early_access    88310\n",
       "id              88312\n",
       "developer       91609\n",
       "dtype: int64"
      ]
     },
     "execution_count": 149,
     "metadata": {},
     "output_type": "execute_result"
    }
   ],
   "source": [
    "nulos_por_columna=games.isnull().sum()\n",
    "nulos_por_columna"
   ]
  },
  {
   "cell_type": "code",
   "execution_count": 150,
   "metadata": {},
   "outputs": [
    {
     "data": {
      "text/plain": [
       "1168997"
      ]
     },
     "execution_count": 150,
     "metadata": {},
     "output_type": "execute_result"
    }
   ],
   "source": [
    "Total_nulos= games.isnull().sum().sum()\n",
    "Total_nulos"
   ]
  },
  {
   "cell_type": "code",
   "execution_count": 151,
   "metadata": {},
   "outputs": [
    {
     "data": {
      "text/html": [
       "<div>\n",
       "<style scoped>\n",
       "    .dataframe tbody tr th:only-of-type {\n",
       "        vertical-align: middle;\n",
       "    }\n",
       "\n",
       "    .dataframe tbody tr th {\n",
       "        vertical-align: top;\n",
       "    }\n",
       "\n",
       "    .dataframe thead th {\n",
       "        text-align: right;\n",
       "    }\n",
       "</style>\n",
       "<table border=\"1\" class=\"dataframe\">\n",
       "  <thead>\n",
       "    <tr style=\"text-align: right;\">\n",
       "      <th></th>\n",
       "      <th>publisher</th>\n",
       "      <th>genres</th>\n",
       "      <th>app_name</th>\n",
       "      <th>title</th>\n",
       "      <th>url</th>\n",
       "      <th>release_date</th>\n",
       "      <th>tags</th>\n",
       "      <th>reviews_url</th>\n",
       "      <th>specs</th>\n",
       "      <th>price</th>\n",
       "      <th>early_access</th>\n",
       "      <th>id</th>\n",
       "      <th>developer</th>\n",
       "    </tr>\n",
       "  </thead>\n",
       "  <tbody>\n",
       "    <tr>\n",
       "      <th>0</th>\n",
       "      <td>Kotoshiro</td>\n",
       "      <td>[Action, Casual, Indie, Simulation, Strategy]</td>\n",
       "      <td>Lost Summoner Kitty</td>\n",
       "      <td>Lost Summoner Kitty</td>\n",
       "      <td>http://store.steampowered.com/app/761140/Lost_...</td>\n",
       "      <td>2018-01-04</td>\n",
       "      <td>[Strategy, Action, Indie, Casual, Simulation]</td>\n",
       "      <td>http://steamcommunity.com/app/761140/reviews/?...</td>\n",
       "      <td>[Single-player]</td>\n",
       "      <td>4.99</td>\n",
       "      <td>False</td>\n",
       "      <td>761140</td>\n",
       "      <td>Kotoshiro</td>\n",
       "    </tr>\n",
       "    <tr>\n",
       "      <th>1</th>\n",
       "      <td>Making Fun, Inc.</td>\n",
       "      <td>[Free to Play, Indie, RPG, Strategy]</td>\n",
       "      <td>Ironbound</td>\n",
       "      <td>Ironbound</td>\n",
       "      <td>http://store.steampowered.com/app/643980/Ironb...</td>\n",
       "      <td>2018-01-04</td>\n",
       "      <td>[Free to Play, Strategy, Indie, RPG, Card Game...</td>\n",
       "      <td>http://steamcommunity.com/app/643980/reviews/?...</td>\n",
       "      <td>[Single-player, Multi-player, Online Multi-Pla...</td>\n",
       "      <td>Free To Play</td>\n",
       "      <td>False</td>\n",
       "      <td>643980</td>\n",
       "      <td>Secret Level SRL</td>\n",
       "    </tr>\n",
       "    <tr>\n",
       "      <th>2</th>\n",
       "      <td>Poolians.com</td>\n",
       "      <td>[Casual, Free to Play, Indie, Simulation, Sports]</td>\n",
       "      <td>Real Pool 3D - Poolians</td>\n",
       "      <td>Real Pool 3D - Poolians</td>\n",
       "      <td>http://store.steampowered.com/app/670290/Real_...</td>\n",
       "      <td>2017-07-24</td>\n",
       "      <td>[Free to Play, Simulation, Sports, Casual, Ind...</td>\n",
       "      <td>http://steamcommunity.com/app/670290/reviews/?...</td>\n",
       "      <td>[Single-player, Multi-player, Online Multi-Pla...</td>\n",
       "      <td>Free to Play</td>\n",
       "      <td>False</td>\n",
       "      <td>670290</td>\n",
       "      <td>Poolians.com</td>\n",
       "    </tr>\n",
       "    <tr>\n",
       "      <th>3</th>\n",
       "      <td>彼岸领域</td>\n",
       "      <td>[Action, Adventure, Casual]</td>\n",
       "      <td>弹炸人2222</td>\n",
       "      <td>弹炸人2222</td>\n",
       "      <td>http://store.steampowered.com/app/767400/2222/</td>\n",
       "      <td>2017-12-07</td>\n",
       "      <td>[Action, Adventure, Casual]</td>\n",
       "      <td>http://steamcommunity.com/app/767400/reviews/?...</td>\n",
       "      <td>[Single-player]</td>\n",
       "      <td>0.99</td>\n",
       "      <td>False</td>\n",
       "      <td>767400</td>\n",
       "      <td>彼岸领域</td>\n",
       "    </tr>\n",
       "    <tr>\n",
       "      <th>4</th>\n",
       "      <td>NaN</td>\n",
       "      <td>NaN</td>\n",
       "      <td>Log Challenge</td>\n",
       "      <td>NaN</td>\n",
       "      <td>http://store.steampowered.com/app/773570/Log_C...</td>\n",
       "      <td>NaN</td>\n",
       "      <td>[Action, Indie, Casual, Sports]</td>\n",
       "      <td>http://steamcommunity.com/app/773570/reviews/?...</td>\n",
       "      <td>[Single-player, Full controller support, HTC V...</td>\n",
       "      <td>2.99</td>\n",
       "      <td>False</td>\n",
       "      <td>773570</td>\n",
       "      <td>NaN</td>\n",
       "    </tr>\n",
       "  </tbody>\n",
       "</table>\n",
       "</div>"
      ],
      "text/plain": [
       "          publisher                                             genres  \\\n",
       "0         Kotoshiro      [Action, Casual, Indie, Simulation, Strategy]   \n",
       "1  Making Fun, Inc.               [Free to Play, Indie, RPG, Strategy]   \n",
       "2      Poolians.com  [Casual, Free to Play, Indie, Simulation, Sports]   \n",
       "3              彼岸领域                        [Action, Adventure, Casual]   \n",
       "4               NaN                                                NaN   \n",
       "\n",
       "                  app_name                    title  \\\n",
       "0      Lost Summoner Kitty      Lost Summoner Kitty   \n",
       "1                Ironbound                Ironbound   \n",
       "2  Real Pool 3D - Poolians  Real Pool 3D - Poolians   \n",
       "3                  弹炸人2222                  弹炸人2222   \n",
       "4            Log Challenge                      NaN   \n",
       "\n",
       "                                                 url release_date  \\\n",
       "0  http://store.steampowered.com/app/761140/Lost_...   2018-01-04   \n",
       "1  http://store.steampowered.com/app/643980/Ironb...   2018-01-04   \n",
       "2  http://store.steampowered.com/app/670290/Real_...   2017-07-24   \n",
       "3     http://store.steampowered.com/app/767400/2222/   2017-12-07   \n",
       "4  http://store.steampowered.com/app/773570/Log_C...          NaN   \n",
       "\n",
       "                                                tags  \\\n",
       "0      [Strategy, Action, Indie, Casual, Simulation]   \n",
       "1  [Free to Play, Strategy, Indie, RPG, Card Game...   \n",
       "2  [Free to Play, Simulation, Sports, Casual, Ind...   \n",
       "3                        [Action, Adventure, Casual]   \n",
       "4                    [Action, Indie, Casual, Sports]   \n",
       "\n",
       "                                         reviews_url  \\\n",
       "0  http://steamcommunity.com/app/761140/reviews/?...   \n",
       "1  http://steamcommunity.com/app/643980/reviews/?...   \n",
       "2  http://steamcommunity.com/app/670290/reviews/?...   \n",
       "3  http://steamcommunity.com/app/767400/reviews/?...   \n",
       "4  http://steamcommunity.com/app/773570/reviews/?...   \n",
       "\n",
       "                                               specs         price  \\\n",
       "0                                    [Single-player]          4.99   \n",
       "1  [Single-player, Multi-player, Online Multi-Pla...  Free To Play   \n",
       "2  [Single-player, Multi-player, Online Multi-Pla...  Free to Play   \n",
       "3                                    [Single-player]          0.99   \n",
       "4  [Single-player, Full controller support, HTC V...          2.99   \n",
       "\n",
       "  early_access      id         developer  \n",
       "0        False  761140         Kotoshiro  \n",
       "1        False  643980  Secret Level SRL  \n",
       "2        False  670290      Poolians.com  \n",
       "3        False  767400              彼岸领域  \n",
       "4        False  773570               NaN  "
      ]
     },
     "execution_count": 151,
     "metadata": {},
     "output_type": "execute_result"
    }
   ],
   "source": [
    "steam_games = games.dropna(how=\"all\").reset_index(drop=True) # Eliminamos las filas que tienen \"solo valores nulos\"\n",
    "steam_games.head()"
   ]
  },
  {
   "cell_type": "code",
   "execution_count": 152,
   "metadata": {},
   "outputs": [
    {
     "data": {
      "text/plain": [
       "20967"
      ]
     },
     "execution_count": 152,
     "metadata": {},
     "output_type": "execute_result"
    }
   ],
   "source": [
    "total_nulos = steam_games.isnull().sum().sum() # Verificamos nuevamente la cantidad total de nulos\n",
    "total_nulos"
   ]
  },
  {
   "cell_type": "markdown",
   "metadata": {},
   "source": [
    "Al eliminar las filas que solo tienen valores nulos, disminuimos la cantidad de los mismos de 1168997 a 20967."
   ]
  },
  {
   "cell_type": "code",
   "execution_count": 153,
   "metadata": {},
   "outputs": [
    {
     "data": {
      "text/html": [
       "<div>\n",
       "<style scoped>\n",
       "    .dataframe tbody tr th:only-of-type {\n",
       "        vertical-align: middle;\n",
       "    }\n",
       "\n",
       "    .dataframe tbody tr th {\n",
       "        vertical-align: top;\n",
       "    }\n",
       "\n",
       "    .dataframe thead th {\n",
       "        text-align: right;\n",
       "    }\n",
       "</style>\n",
       "<table border=\"1\" class=\"dataframe\">\n",
       "  <thead>\n",
       "    <tr style=\"text-align: right;\">\n",
       "      <th></th>\n",
       "      <th>publisher</th>\n",
       "      <th>genres</th>\n",
       "      <th>app_name</th>\n",
       "      <th>title</th>\n",
       "      <th>url</th>\n",
       "      <th>release_date</th>\n",
       "      <th>tags</th>\n",
       "      <th>reviews_url</th>\n",
       "      <th>specs</th>\n",
       "      <th>price</th>\n",
       "      <th>early_access</th>\n",
       "      <th>id</th>\n",
       "      <th>developer</th>\n",
       "    </tr>\n",
       "  </thead>\n",
       "  <tbody>\n",
       "    <tr>\n",
       "      <th>14573</th>\n",
       "      <td>Bethesda Softworks</td>\n",
       "      <td>[Action]</td>\n",
       "      <td>Wolfenstein II: The New Colossus</td>\n",
       "      <td>Wolfenstein II: The New Colossus</td>\n",
       "      <td>http://store.steampowered.com/app/612880/Wolfe...</td>\n",
       "      <td>2017-10-26</td>\n",
       "      <td>[Action, FPS, Gore, Violent, Alternate History...</td>\n",
       "      <td>http://steamcommunity.com/app/612880/reviews/?...</td>\n",
       "      <td>[Single-player, Steam Achievements, Full contr...</td>\n",
       "      <td>59.99</td>\n",
       "      <td>False</td>\n",
       "      <td>612880</td>\n",
       "      <td>Machine Games</td>\n",
       "    </tr>\n",
       "    <tr>\n",
       "      <th>30961</th>\n",
       "      <td>Warner Bros. Interactive Entertainment, Feral ...</td>\n",
       "      <td>[Action, Adventure]</td>\n",
       "      <td>Batman: Arkham City - Game of the Year Edition</td>\n",
       "      <td>Batman: Arkham City - Game of the Year Edition</td>\n",
       "      <td>http://store.steampowered.com/app/200260</td>\n",
       "      <td>2012-09-07</td>\n",
       "      <td>[Action, Open World, Batman, Adventure, Stealt...</td>\n",
       "      <td>NaN</td>\n",
       "      <td>[Single-player, Steam Achievements, Steam Trad...</td>\n",
       "      <td>19.99</td>\n",
       "      <td>False</td>\n",
       "      <td>NaN</td>\n",
       "      <td>Rocksteady Studios,Feral Interactive (Mac)</td>\n",
       "    </tr>\n",
       "  </tbody>\n",
       "</table>\n",
       "</div>"
      ],
      "text/plain": [
       "                                               publisher               genres  \\\n",
       "14573                                 Bethesda Softworks             [Action]   \n",
       "30961  Warner Bros. Interactive Entertainment, Feral ...  [Action, Adventure]   \n",
       "\n",
       "                                             app_name  \\\n",
       "14573                Wolfenstein II: The New Colossus   \n",
       "30961  Batman: Arkham City - Game of the Year Edition   \n",
       "\n",
       "                                                title  \\\n",
       "14573                Wolfenstein II: The New Colossus   \n",
       "30961  Batman: Arkham City - Game of the Year Edition   \n",
       "\n",
       "                                                     url release_date  \\\n",
       "14573  http://store.steampowered.com/app/612880/Wolfe...   2017-10-26   \n",
       "30961           http://store.steampowered.com/app/200260   2012-09-07   \n",
       "\n",
       "                                                    tags  \\\n",
       "14573  [Action, FPS, Gore, Violent, Alternate History...   \n",
       "30961  [Action, Open World, Batman, Adventure, Stealt...   \n",
       "\n",
       "                                             reviews_url  \\\n",
       "14573  http://steamcommunity.com/app/612880/reviews/?...   \n",
       "30961                                                NaN   \n",
       "\n",
       "                                                   specs  price early_access  \\\n",
       "14573  [Single-player, Steam Achievements, Full contr...  59.99        False   \n",
       "30961  [Single-player, Steam Achievements, Steam Trad...  19.99        False   \n",
       "\n",
       "           id                                   developer  \n",
       "14573  612880                               Machine Games  \n",
       "30961     NaN  Rocksteady Studios,Feral Interactive (Mac)  "
      ]
     },
     "execution_count": 153,
     "metadata": {},
     "output_type": "execute_result"
    }
   ],
   "source": [
    "duplicados_columnas = steam_games[steam_games.duplicated(subset=['id'])] # Verificamos si hay filas duplicadas en la columna id\n",
    "duplicados_columnas"
   ]
  },
  {
   "cell_type": "code",
   "execution_count": 154,
   "metadata": {},
   "outputs": [
    {
     "data": {
      "text/html": [
       "<div>\n",
       "<style scoped>\n",
       "    .dataframe tbody tr th:only-of-type {\n",
       "        vertical-align: middle;\n",
       "    }\n",
       "\n",
       "    .dataframe tbody tr th {\n",
       "        vertical-align: top;\n",
       "    }\n",
       "\n",
       "    .dataframe thead th {\n",
       "        text-align: right;\n",
       "    }\n",
       "</style>\n",
       "<table border=\"1\" class=\"dataframe\">\n",
       "  <thead>\n",
       "    <tr style=\"text-align: right;\">\n",
       "      <th></th>\n",
       "      <th>publisher</th>\n",
       "      <th>genres</th>\n",
       "      <th>app_name</th>\n",
       "      <th>title</th>\n",
       "      <th>url</th>\n",
       "      <th>release_date</th>\n",
       "      <th>tags</th>\n",
       "      <th>reviews_url</th>\n",
       "      <th>specs</th>\n",
       "      <th>price</th>\n",
       "      <th>early_access</th>\n",
       "      <th>id</th>\n",
       "      <th>developer</th>\n",
       "    </tr>\n",
       "  </thead>\n",
       "  <tbody>\n",
       "    <tr>\n",
       "      <th>12237</th>\n",
       "      <td>Bethesda Softworks</td>\n",
       "      <td>[Action]</td>\n",
       "      <td>Wolfenstein II: The Freedom Chronicles - Seaso...</td>\n",
       "      <td>Wolfenstein II: The Freedom Chronicles - Seaso...</td>\n",
       "      <td>http://store.steampowered.com/app/650410/Wolfe...</td>\n",
       "      <td>2017-11-07</td>\n",
       "      <td>[Gore, Action, Violent]</td>\n",
       "      <td>http://steamcommunity.com/app/650410/reviews/?...</td>\n",
       "      <td>[Single-player, Downloadable Content, Full con...</td>\n",
       "      <td>24.99</td>\n",
       "      <td>False</td>\n",
       "      <td>650410</td>\n",
       "      <td>Machine Games</td>\n",
       "    </tr>\n",
       "    <tr>\n",
       "      <th>13318</th>\n",
       "      <td>Bethesda Softworks</td>\n",
       "      <td>[Action]</td>\n",
       "      <td>Wolfenstein II: The Freedom Chronicles - Episo...</td>\n",
       "      <td>Wolfenstein II: The Freedom Chronicles - Episo...</td>\n",
       "      <td>http://store.steampowered.com/app/624620/Wolfe...</td>\n",
       "      <td>2017-12-13</td>\n",
       "      <td>[Action, Violent]</td>\n",
       "      <td>http://steamcommunity.com/app/624620/reviews/?...</td>\n",
       "      <td>[Single-player, Downloadable Content, Steam Ac...</td>\n",
       "      <td>9.99</td>\n",
       "      <td>False</td>\n",
       "      <td>624620</td>\n",
       "      <td>Machine Games</td>\n",
       "    </tr>\n",
       "    <tr>\n",
       "      <th>13894</th>\n",
       "      <td>Bethesda Softworks</td>\n",
       "      <td>[Action]</td>\n",
       "      <td>Wolfenstein II: The New Colossus</td>\n",
       "      <td>Wolfenstein II: The New Colossus</td>\n",
       "      <td>http://store.steampowered.com/app/612880/</td>\n",
       "      <td>2017-10-26</td>\n",
       "      <td>[Action, FPS, Gore, Violent, Alternate History...</td>\n",
       "      <td>http://steamcommunity.com/app/612880/reviews/?...</td>\n",
       "      <td>[Single-player, Steam Achievements, Full contr...</td>\n",
       "      <td>59.99</td>\n",
       "      <td>False</td>\n",
       "      <td>612880</td>\n",
       "      <td>Machine Games</td>\n",
       "    </tr>\n",
       "    <tr>\n",
       "      <th>14573</th>\n",
       "      <td>Bethesda Softworks</td>\n",
       "      <td>[Action]</td>\n",
       "      <td>Wolfenstein II: The New Colossus</td>\n",
       "      <td>Wolfenstein II: The New Colossus</td>\n",
       "      <td>http://store.steampowered.com/app/612880/Wolfe...</td>\n",
       "      <td>2017-10-26</td>\n",
       "      <td>[Action, FPS, Gore, Violent, Alternate History...</td>\n",
       "      <td>http://steamcommunity.com/app/612880/reviews/?...</td>\n",
       "      <td>[Single-player, Steam Achievements, Full contr...</td>\n",
       "      <td>59.99</td>\n",
       "      <td>False</td>\n",
       "      <td>612880</td>\n",
       "      <td>Machine Games</td>\n",
       "    </tr>\n",
       "    <tr>\n",
       "      <th>28996</th>\n",
       "      <td>Bethesda Softworks</td>\n",
       "      <td>[Action]</td>\n",
       "      <td>Wolfenstein: The New Order</td>\n",
       "      <td>Wolfenstein: The New Order</td>\n",
       "      <td>http://store.steampowered.com/app/201810/Wolfe...</td>\n",
       "      <td>2014-05-19</td>\n",
       "      <td>[FPS, Action, Shooter, Alternate History, Firs...</td>\n",
       "      <td>http://steamcommunity.com/app/201810/reviews/?...</td>\n",
       "      <td>[Single-player, Steam Achievements, Partial Co...</td>\n",
       "      <td>19.99</td>\n",
       "      <td>False</td>\n",
       "      <td>201810</td>\n",
       "      <td>Machine Games</td>\n",
       "    </tr>\n",
       "  </tbody>\n",
       "</table>\n",
       "</div>"
      ],
      "text/plain": [
       "                publisher    genres  \\\n",
       "12237  Bethesda Softworks  [Action]   \n",
       "13318  Bethesda Softworks  [Action]   \n",
       "13894  Bethesda Softworks  [Action]   \n",
       "14573  Bethesda Softworks  [Action]   \n",
       "28996  Bethesda Softworks  [Action]   \n",
       "\n",
       "                                                app_name  \\\n",
       "12237  Wolfenstein II: The Freedom Chronicles - Seaso...   \n",
       "13318  Wolfenstein II: The Freedom Chronicles - Episo...   \n",
       "13894                   Wolfenstein II: The New Colossus   \n",
       "14573                   Wolfenstein II: The New Colossus   \n",
       "28996                         Wolfenstein: The New Order   \n",
       "\n",
       "                                                   title  \\\n",
       "12237  Wolfenstein II: The Freedom Chronicles - Seaso...   \n",
       "13318  Wolfenstein II: The Freedom Chronicles - Episo...   \n",
       "13894                   Wolfenstein II: The New Colossus   \n",
       "14573                   Wolfenstein II: The New Colossus   \n",
       "28996                         Wolfenstein: The New Order   \n",
       "\n",
       "                                                     url release_date  \\\n",
       "12237  http://store.steampowered.com/app/650410/Wolfe...   2017-11-07   \n",
       "13318  http://store.steampowered.com/app/624620/Wolfe...   2017-12-13   \n",
       "13894          http://store.steampowered.com/app/612880/   2017-10-26   \n",
       "14573  http://store.steampowered.com/app/612880/Wolfe...   2017-10-26   \n",
       "28996  http://store.steampowered.com/app/201810/Wolfe...   2014-05-19   \n",
       "\n",
       "                                                    tags  \\\n",
       "12237                            [Gore, Action, Violent]   \n",
       "13318                                  [Action, Violent]   \n",
       "13894  [Action, FPS, Gore, Violent, Alternate History...   \n",
       "14573  [Action, FPS, Gore, Violent, Alternate History...   \n",
       "28996  [FPS, Action, Shooter, Alternate History, Firs...   \n",
       "\n",
       "                                             reviews_url  \\\n",
       "12237  http://steamcommunity.com/app/650410/reviews/?...   \n",
       "13318  http://steamcommunity.com/app/624620/reviews/?...   \n",
       "13894  http://steamcommunity.com/app/612880/reviews/?...   \n",
       "14573  http://steamcommunity.com/app/612880/reviews/?...   \n",
       "28996  http://steamcommunity.com/app/201810/reviews/?...   \n",
       "\n",
       "                                                   specs  price early_access  \\\n",
       "12237  [Single-player, Downloadable Content, Full con...  24.99        False   \n",
       "13318  [Single-player, Downloadable Content, Steam Ac...   9.99        False   \n",
       "13894  [Single-player, Steam Achievements, Full contr...  59.99        False   \n",
       "14573  [Single-player, Steam Achievements, Full contr...  59.99        False   \n",
       "28996  [Single-player, Steam Achievements, Partial Co...  19.99        False   \n",
       "\n",
       "           id      developer  \n",
       "12237  650410  Machine Games  \n",
       "13318  624620  Machine Games  \n",
       "13894  612880  Machine Games  \n",
       "14573  612880  Machine Games  \n",
       "28996  201810  Machine Games  "
      ]
     },
     "execution_count": 154,
     "metadata": {},
     "output_type": "execute_result"
    }
   ],
   "source": [
    "steam_games[steam_games[\"developer\"] == \"Machine Games\"]"
   ]
  },
  {
   "cell_type": "markdown",
   "metadata": {},
   "source": [
    "Las filas duplicadas 14573 y 13894 son iguales por lo que podemos eliminar una de ellas.\n",
    "La fila 30961 está duplicada y es idéntica a la fila 1068, pero contiene un valor nulo en el campo de identificación (ID), mientras que la fila 1068 tiene un ID completo de 2002. Por lo cual la fila duplicada 30961 se elimina."
   ]
  },
  {
   "cell_type": "code",
   "execution_count": 155,
   "metadata": {},
   "outputs": [],
   "source": [
    "steam_games = steam_games.drop([14573, 30961]) # Eliminamos columnas con id duplicadas"
   ]
  },
  {
   "cell_type": "code",
   "execution_count": 156,
   "metadata": {},
   "outputs": [
    {
     "data": {
      "text/html": [
       "<div>\n",
       "<style scoped>\n",
       "    .dataframe tbody tr th:only-of-type {\n",
       "        vertical-align: middle;\n",
       "    }\n",
       "\n",
       "    .dataframe tbody tr th {\n",
       "        vertical-align: top;\n",
       "    }\n",
       "\n",
       "    .dataframe thead th {\n",
       "        text-align: right;\n",
       "    }\n",
       "</style>\n",
       "<table border=\"1\" class=\"dataframe\">\n",
       "  <thead>\n",
       "    <tr style=\"text-align: right;\">\n",
       "      <th></th>\n",
       "      <th>publisher</th>\n",
       "      <th>genres</th>\n",
       "      <th>app_name</th>\n",
       "      <th>title</th>\n",
       "      <th>url</th>\n",
       "      <th>release_date</th>\n",
       "      <th>tags</th>\n",
       "      <th>reviews_url</th>\n",
       "      <th>specs</th>\n",
       "      <th>price</th>\n",
       "      <th>early_access</th>\n",
       "      <th>id</th>\n",
       "      <th>developer</th>\n",
       "    </tr>\n",
       "  </thead>\n",
       "  <tbody>\n",
       "  </tbody>\n",
       "</table>\n",
       "</div>"
      ],
      "text/plain": [
       "Empty DataFrame\n",
       "Columns: [publisher, genres, app_name, title, url, release_date, tags, reviews_url, specs, price, early_access, id, developer]\n",
       "Index: []"
      ]
     },
     "execution_count": 156,
     "metadata": {},
     "output_type": "execute_result"
    }
   ],
   "source": [
    "duplicados_columnas = steam_games[steam_games.duplicated(subset=['id'])]\n",
    "duplicados_columnas"
   ]
  },
  {
   "cell_type": "code",
   "execution_count": 157,
   "metadata": {},
   "outputs": [
    {
     "data": {
      "text/plain": [
       "(32133, 13)"
      ]
     },
     "execution_count": 157,
     "metadata": {},
     "output_type": "execute_result"
    }
   ],
   "source": [
    "steam_games.shape"
   ]
  },
  {
   "cell_type": "code",
   "execution_count": 158,
   "metadata": {},
   "outputs": [
    {
     "data": {
      "text/plain": [
       "publisher       25.058351\n",
       "genres          10.216911\n",
       "app_name         0.006224\n",
       "title            6.379734\n",
       "url              0.000000\n",
       "release_date     6.432639\n",
       "tags             0.507267\n",
       "reviews_url      0.003112\n",
       "specs            2.085084\n",
       "price            4.285314\n",
       "early_access     0.000000\n",
       "id               0.003112\n",
       "developer       10.266704\n",
       "dtype: float64"
      ]
     },
     "execution_count": 158,
     "metadata": {},
     "output_type": "execute_result"
    }
   ],
   "source": [
    "# verificamos el porcentaje de nulos por columna para tomar una decision\n",
    "total_filas = len(steam_games)\n",
    "nulos_por_columna = steam_games.isnull().sum()\n",
    "porcentaje_nulos_por_columna = (nulos_por_columna / total_filas) * 100\n",
    "porcentaje_nulos_por_columna"
   ]
  },
  {
   "cell_type": "markdown",
   "metadata": {},
   "source": [
    "La columna 'publisher' cuenta con un 25% de datos nulos siendo la de mayor cantidad."
   ]
  },
  {
   "cell_type": "markdown",
   "metadata": {},
   "source": [
    "###Transformación de los datos"
   ]
  },
  {
   "cell_type": "code",
   "execution_count": 159,
   "metadata": {},
   "outputs": [
    {
     "data": {
      "text/plain": [
       "publisher       object\n",
       "genres          object\n",
       "app_name        object\n",
       "title           object\n",
       "url             object\n",
       "release_date    object\n",
       "tags            object\n",
       "reviews_url     object\n",
       "specs           object\n",
       "price           object\n",
       "early_access    object\n",
       "id              object\n",
       "developer       object\n",
       "dtype: object"
      ]
     },
     "execution_count": 159,
     "metadata": {},
     "output_type": "execute_result"
    }
   ],
   "source": [
    "tipos_de_datos = steam_games.dtypes # Obtenemos los tipos de datos de cada columna\n",
    "tipos_de_datos"
   ]
  },
  {
   "cell_type": "markdown",
   "metadata": {},
   "source": [
    "El conjunto de datos sigue siendo un archivo JSON, por lo que el tipo de dato es 'object', lo que podría indicar datos anidados con formato clave-valor. Se procede a analizar cada columna mediante un bucle, almacenando la información en un diccionario vacío. Posteriormente, se transforma este diccionario en un conjunto de datos para poder examinar los tipos de datos de las columnas."
   ]
  },
  {
   "cell_type": "code",
   "execution_count": 160,
   "metadata": {},
   "outputs": [
    {
     "data": {
      "text/html": [
       "<div>\n",
       "<style scoped>\n",
       "    .dataframe tbody tr th:only-of-type {\n",
       "        vertical-align: middle;\n",
       "    }\n",
       "\n",
       "    .dataframe tbody tr th {\n",
       "        vertical-align: top;\n",
       "    }\n",
       "\n",
       "    .dataframe thead th {\n",
       "        text-align: right;\n",
       "    }\n",
       "</style>\n",
       "<table border=\"1\" class=\"dataframe\">\n",
       "  <thead>\n",
       "    <tr style=\"text-align: right;\">\n",
       "      <th></th>\n",
       "      <th>columna</th>\n",
       "      <th>tipos_de_datos</th>\n",
       "    </tr>\n",
       "  </thead>\n",
       "  <tbody>\n",
       "    <tr>\n",
       "      <th>0</th>\n",
       "      <td>publisher</td>\n",
       "      <td>[&lt;class 'str'&gt;, &lt;class 'float'&gt;]</td>\n",
       "    </tr>\n",
       "    <tr>\n",
       "      <th>1</th>\n",
       "      <td>genres</td>\n",
       "      <td>[&lt;class 'list'&gt;, &lt;class 'float'&gt;]</td>\n",
       "    </tr>\n",
       "    <tr>\n",
       "      <th>2</th>\n",
       "      <td>app_name</td>\n",
       "      <td>[&lt;class 'str'&gt;, &lt;class 'float'&gt;]</td>\n",
       "    </tr>\n",
       "    <tr>\n",
       "      <th>3</th>\n",
       "      <td>title</td>\n",
       "      <td>[&lt;class 'str'&gt;, &lt;class 'float'&gt;]</td>\n",
       "    </tr>\n",
       "    <tr>\n",
       "      <th>4</th>\n",
       "      <td>url</td>\n",
       "      <td>[&lt;class 'str'&gt;]</td>\n",
       "    </tr>\n",
       "    <tr>\n",
       "      <th>5</th>\n",
       "      <td>release_date</td>\n",
       "      <td>[&lt;class 'str'&gt;, &lt;class 'float'&gt;]</td>\n",
       "    </tr>\n",
       "    <tr>\n",
       "      <th>6</th>\n",
       "      <td>tags</td>\n",
       "      <td>[&lt;class 'list'&gt;, &lt;class 'float'&gt;]</td>\n",
       "    </tr>\n",
       "    <tr>\n",
       "      <th>7</th>\n",
       "      <td>reviews_url</td>\n",
       "      <td>[&lt;class 'str'&gt;, &lt;class 'float'&gt;]</td>\n",
       "    </tr>\n",
       "    <tr>\n",
       "      <th>8</th>\n",
       "      <td>specs</td>\n",
       "      <td>[&lt;class 'list'&gt;, &lt;class 'float'&gt;]</td>\n",
       "    </tr>\n",
       "    <tr>\n",
       "      <th>9</th>\n",
       "      <td>price</td>\n",
       "      <td>[&lt;class 'float'&gt;, &lt;class 'str'&gt;]</td>\n",
       "    </tr>\n",
       "    <tr>\n",
       "      <th>10</th>\n",
       "      <td>early_access</td>\n",
       "      <td>[&lt;class 'bool'&gt;]</td>\n",
       "    </tr>\n",
       "    <tr>\n",
       "      <th>11</th>\n",
       "      <td>id</td>\n",
       "      <td>[&lt;class 'str'&gt;, &lt;class 'float'&gt;]</td>\n",
       "    </tr>\n",
       "    <tr>\n",
       "      <th>12</th>\n",
       "      <td>developer</td>\n",
       "      <td>[&lt;class 'str'&gt;, &lt;class 'float'&gt;]</td>\n",
       "    </tr>\n",
       "  </tbody>\n",
       "</table>\n",
       "</div>"
      ],
      "text/plain": [
       "         columna                     tipos_de_datos\n",
       "0      publisher   [<class 'str'>, <class 'float'>]\n",
       "1         genres  [<class 'list'>, <class 'float'>]\n",
       "2       app_name   [<class 'str'>, <class 'float'>]\n",
       "3          title   [<class 'str'>, <class 'float'>]\n",
       "4            url                    [<class 'str'>]\n",
       "5   release_date   [<class 'str'>, <class 'float'>]\n",
       "6           tags  [<class 'list'>, <class 'float'>]\n",
       "7    reviews_url   [<class 'str'>, <class 'float'>]\n",
       "8          specs  [<class 'list'>, <class 'float'>]\n",
       "9          price   [<class 'float'>, <class 'str'>]\n",
       "10  early_access                   [<class 'bool'>]\n",
       "11            id   [<class 'str'>, <class 'float'>]\n",
       "12     developer   [<class 'str'>, <class 'float'>]"
      ]
     },
     "execution_count": 160,
     "metadata": {},
     "output_type": "execute_result"
    }
   ],
   "source": [
    "tipo_data = {\"columna\":[],\"tipos_de_datos\":[]} # creamos un diccionario vacio\n",
    "\n",
    "for columna in steam_games.columns: # iteramos por las columnas del dataframe \n",
    "    tipo_data[\"columna\"].append(columna) # agregamos el nombre de la columna\n",
    "    tipo_data[\"tipos_de_datos\"].append(steam_games[columna].apply(type).unique()) # agregamos el tipo de dato de la columna\n",
    "\n",
    "analisis= pd.DataFrame(tipo_data) # convertimos el diccionario en un dataframe\n",
    "analisis"
   ]
  },
  {
   "cell_type": "markdown",
   "metadata": {},
   "source": [
    "Columna \"release_date\"\n",
    "La columna \"release_date\" contiene la fecha de lanzamiento de cada juego de forma YYYY-MM-DD. Transformamos esta columna de manera que solo veamos el año de lanzamiento."
   ]
  },
  {
   "cell_type": "code",
   "execution_count": 161,
   "metadata": {},
   "outputs": [
    {
     "data": {
      "text/plain": [
       "0        2018-01-04\n",
       "1        2018-01-04\n",
       "2        2017-07-24\n",
       "3        2017-12-07\n",
       "4               NaN\n",
       "            ...    \n",
       "32130    2018-01-04\n",
       "32131    2018-01-04\n",
       "32132    2018-01-04\n",
       "32133    2017-09-02\n",
       "32134           NaN\n",
       "Name: release_date, Length: 32133, dtype: object"
      ]
     },
     "execution_count": 161,
     "metadata": {},
     "output_type": "execute_result"
    }
   ],
   "source": [
    "# observamos la composición de la columna\n",
    "steam_games[\"release_date\"]"
   ]
  },
  {
   "cell_type": "code",
   "execution_count": 162,
   "metadata": {},
   "outputs": [
    {
     "data": {
      "text/plain": [
       "release_date\n",
       "2012-10-16    100\n",
       "2017-08-31     92\n",
       "2017-09-26     89\n",
       "2017-06-21     82\n",
       "2017-07-25     78\n",
       "             ... \n",
       "1988-04-16      1\n",
       "2013-08-24      1\n",
       "2011-05-07      1\n",
       "2010-08-21      1\n",
       "2018-10-01      1\n",
       "Name: count, Length: 3582, dtype: int64"
      ]
     },
     "execution_count": 162,
     "metadata": {},
     "output_type": "execute_result"
    }
   ],
   "source": [
    "steam_games[\"release_date\"].value_counts() # observamos la cantidad de valores por fecha"
   ]
  },
  {
   "cell_type": "code",
   "execution_count": 163,
   "metadata": {},
   "outputs": [
    {
     "data": {
      "text/plain": [
       "2067"
      ]
     },
     "execution_count": 163,
     "metadata": {},
     "output_type": "execute_result"
    }
   ],
   "source": [
    "steam_games[\"release_date\"].isnull().sum() # observamos la cantidad de nulos"
   ]
  },
  {
   "cell_type": "code",
   "execution_count": 164,
   "metadata": {},
   "outputs": [],
   "source": [
    "# Convertimos la columna en datetime\n",
    "steam_games['release_date'] = pd.to_datetime(steam_games['release_date'], errors='coerce')\n",
    "\n",
    "# Calculamos la fecha media\n",
    "mean_date = steam_games['release_date'].mean()\n",
    "\n",
    "# Rellenamos los valores nulos con la fecha media\n",
    "steam_games['release_date'].fillna(mean_date, inplace=True)"
   ]
  },
  {
   "cell_type": "code",
   "execution_count": 165,
   "metadata": {},
   "outputs": [
    {
     "data": {
      "text/plain": [
       "0"
      ]
     },
     "execution_count": 165,
     "metadata": {},
     "output_type": "execute_result"
    }
   ],
   "source": [
    "# Verificamos que no hayan nulos\n",
    "steam_games[\"release_date\"].isnull().sum()"
   ]
  },
  {
   "cell_type": "code",
   "execution_count": 166,
   "metadata": {},
   "outputs": [
    {
     "data": {
      "text/html": [
       "<div>\n",
       "<style scoped>\n",
       "    .dataframe tbody tr th:only-of-type {\n",
       "        vertical-align: middle;\n",
       "    }\n",
       "\n",
       "    .dataframe tbody tr th {\n",
       "        vertical-align: top;\n",
       "    }\n",
       "\n",
       "    .dataframe thead th {\n",
       "        text-align: right;\n",
       "    }\n",
       "</style>\n",
       "<table border=\"1\" class=\"dataframe\">\n",
       "  <thead>\n",
       "    <tr style=\"text-align: right;\">\n",
       "      <th></th>\n",
       "      <th>publisher</th>\n",
       "      <th>genres</th>\n",
       "      <th>app_name</th>\n",
       "      <th>title</th>\n",
       "      <th>url</th>\n",
       "      <th>release_date</th>\n",
       "      <th>tags</th>\n",
       "      <th>reviews_url</th>\n",
       "      <th>specs</th>\n",
       "      <th>price</th>\n",
       "      <th>early_access</th>\n",
       "      <th>id</th>\n",
       "      <th>developer</th>\n",
       "      <th>release_year</th>\n",
       "    </tr>\n",
       "  </thead>\n",
       "  <tbody>\n",
       "    <tr>\n",
       "      <th>0</th>\n",
       "      <td>Kotoshiro</td>\n",
       "      <td>[Action, Casual, Indie, Simulation, Strategy]</td>\n",
       "      <td>Lost Summoner Kitty</td>\n",
       "      <td>Lost Summoner Kitty</td>\n",
       "      <td>http://store.steampowered.com/app/761140/Lost_...</td>\n",
       "      <td>2018-01-04</td>\n",
       "      <td>[Strategy, Action, Indie, Casual, Simulation]</td>\n",
       "      <td>http://steamcommunity.com/app/761140/reviews/?...</td>\n",
       "      <td>[Single-player]</td>\n",
       "      <td>4.99</td>\n",
       "      <td>False</td>\n",
       "      <td>761140</td>\n",
       "      <td>Kotoshiro</td>\n",
       "      <td>2018</td>\n",
       "    </tr>\n",
       "    <tr>\n",
       "      <th>1</th>\n",
       "      <td>Making Fun, Inc.</td>\n",
       "      <td>[Free to Play, Indie, RPG, Strategy]</td>\n",
       "      <td>Ironbound</td>\n",
       "      <td>Ironbound</td>\n",
       "      <td>http://store.steampowered.com/app/643980/Ironb...</td>\n",
       "      <td>2018-01-04</td>\n",
       "      <td>[Free to Play, Strategy, Indie, RPG, Card Game...</td>\n",
       "      <td>http://steamcommunity.com/app/643980/reviews/?...</td>\n",
       "      <td>[Single-player, Multi-player, Online Multi-Pla...</td>\n",
       "      <td>Free To Play</td>\n",
       "      <td>False</td>\n",
       "      <td>643980</td>\n",
       "      <td>Secret Level SRL</td>\n",
       "      <td>2018</td>\n",
       "    </tr>\n",
       "  </tbody>\n",
       "</table>\n",
       "</div>"
      ],
      "text/plain": [
       "          publisher                                         genres  \\\n",
       "0         Kotoshiro  [Action, Casual, Indie, Simulation, Strategy]   \n",
       "1  Making Fun, Inc.           [Free to Play, Indie, RPG, Strategy]   \n",
       "\n",
       "              app_name                title  \\\n",
       "0  Lost Summoner Kitty  Lost Summoner Kitty   \n",
       "1            Ironbound            Ironbound   \n",
       "\n",
       "                                                 url release_date  \\\n",
       "0  http://store.steampowered.com/app/761140/Lost_...   2018-01-04   \n",
       "1  http://store.steampowered.com/app/643980/Ironb...   2018-01-04   \n",
       "\n",
       "                                                tags  \\\n",
       "0      [Strategy, Action, Indie, Casual, Simulation]   \n",
       "1  [Free to Play, Strategy, Indie, RPG, Card Game...   \n",
       "\n",
       "                                         reviews_url  \\\n",
       "0  http://steamcommunity.com/app/761140/reviews/?...   \n",
       "1  http://steamcommunity.com/app/643980/reviews/?...   \n",
       "\n",
       "                                               specs         price  \\\n",
       "0                                    [Single-player]          4.99   \n",
       "1  [Single-player, Multi-player, Online Multi-Pla...  Free To Play   \n",
       "\n",
       "  early_access      id         developer  release_year  \n",
       "0        False  761140         Kotoshiro          2018  \n",
       "1        False  643980  Secret Level SRL          2018  "
      ]
     },
     "execution_count": 166,
     "metadata": {},
     "output_type": "execute_result"
    }
   ],
   "source": [
    "# Extraemos el año de la columna \"release_date\" y creamos una nueva columna llamada \"release_year\"\n",
    "steam_games['release_year'] = steam_games['release_date'].dt.year \n",
    "steam_games.head(2)"
   ]
  },
  {
   "cell_type": "markdown",
   "metadata": {},
   "source": [
    "Al contar con la columna 'release_year' optamos por eliminar 'release_date'"
   ]
  },
  {
   "cell_type": "code",
   "execution_count": 167,
   "metadata": {},
   "outputs": [],
   "source": [
    "steam_games = steam_games.drop('release_date', axis=1)"
   ]
  },
  {
   "cell_type": "markdown",
   "metadata": {},
   "source": [
    "###Columna \"price\""
   ]
  },
  {
   "cell_type": "code",
   "execution_count": 168,
   "metadata": {},
   "outputs": [
    {
     "data": {
      "text/plain": [
       "0                4.99\n",
       "1        Free To Play\n",
       "2        Free to Play\n",
       "3                0.99\n",
       "4                2.99\n",
       "             ...     \n",
       "32130            1.99\n",
       "32131            4.99\n",
       "32132            1.99\n",
       "32133            4.99\n",
       "32134            4.99\n",
       "Name: price, Length: 32133, dtype: object"
      ]
     },
     "execution_count": 168,
     "metadata": {},
     "output_type": "execute_result"
    }
   ],
   "source": [
    "steam_games[\"price\"] # observamos la composición de la columna"
   ]
  },
  {
   "cell_type": "code",
   "execution_count": 169,
   "metadata": {},
   "outputs": [
    {
     "data": {
      "text/plain": [
       "price\n",
       "4.99           4278\n",
       "9.99           3902\n",
       "2.99           3429\n",
       "0.99           2607\n",
       "1.99           2541\n",
       "               ... \n",
       "74.76             1\n",
       "32.99             1\n",
       "14.95             1\n",
       "26.99             1\n",
       "Free to Use       1\n",
       "Name: count, Length: 162, dtype: int64"
      ]
     },
     "execution_count": 169,
     "metadata": {},
     "output_type": "execute_result"
    }
   ],
   "source": [
    "steam_games[\"price\"].value_counts() # observamos la cantidad de valores por precio"
   ]
  },
  {
   "cell_type": "code",
   "execution_count": 170,
   "metadata": {},
   "outputs": [],
   "source": [
    "# Definimos una función para poder reemplazar los datos string de la columna \"price\" por flotantes 0.0\n",
    "\n",
    "def str_a_float(valor):\n",
    "\n",
    "    if pd.isna(valor): # si el valor es nulo retorno 0.0\n",
    "        return 0.0\n",
    "    try:\n",
    "        flotante = float(valor) # si el valor es un flotante retorno el mismo valor\n",
    "        return flotante\n",
    "    except (ValueError, TypeError): # si el valor no es un flotante retorno 0.0\n",
    "        return 0.0"
   ]
  },
  {
   "cell_type": "code",
   "execution_count": 171,
   "metadata": {},
   "outputs": [],
   "source": [
    "steam_games[\"price\"] = steam_games[\"price\"].apply(str_a_float) # aplicamos la función a la columna \"price\""
   ]
  },
  {
   "cell_type": "code",
   "execution_count": 172,
   "metadata": {},
   "outputs": [
    {
     "data": {
      "text/plain": [
       "0        4.99\n",
       "1        0.00\n",
       "2        0.00\n",
       "3        0.99\n",
       "4        2.99\n",
       "         ... \n",
       "32130    1.99\n",
       "32131    4.99\n",
       "32132    1.99\n",
       "32133    4.99\n",
       "32134    4.99\n",
       "Name: price, Length: 32133, dtype: float64"
      ]
     },
     "execution_count": 172,
     "metadata": {},
     "output_type": "execute_result"
    }
   ],
   "source": [
    "steam_games[\"price\"] # observamos la nueva composición de la columna"
   ]
  },
  {
   "cell_type": "markdown",
   "metadata": {},
   "source": [
    "###Columna \"genres\""
   ]
  },
  {
   "cell_type": "code",
   "execution_count": 173,
   "metadata": {},
   "outputs": [
    {
     "data": {
      "text/plain": [
       "['Action', 'Adventure', 'Casual']"
      ]
     },
     "execution_count": 173,
     "metadata": {},
     "output_type": "execute_result"
    }
   ],
   "source": [
    "steam_games[\"genres\"][3] # observamos la composición de un campo al azar y vemos que es una lista"
   ]
  },
  {
   "cell_type": "code",
   "execution_count": 174,
   "metadata": {},
   "outputs": [
    {
     "data": {
      "text/plain": [
       "3283"
      ]
     },
     "execution_count": 174,
     "metadata": {},
     "output_type": "execute_result"
    }
   ],
   "source": [
    "steam_games[\"genres\"].isnull().sum() # verificamos la cantidad de nulos"
   ]
  },
  {
   "cell_type": "code",
   "execution_count": 175,
   "metadata": {},
   "outputs": [
    {
     "data": {
      "text/plain": [
       "genres\n",
       "[Action]                                                          1879\n",
       "[Action, Indie]                                                   1650\n",
       "[Simulation]                                                      1396\n",
       "[Casual, Simulation]                                              1359\n",
       "[Action, Adventure, Indie]                                        1082\n",
       "                                                                  ... \n",
       "[Action, Adventure, Racing, Simulation, Strategy]                    1\n",
       "[Action, Adventure, Casual, Indie, Racing, Sports, Strategy]         1\n",
       "[Action, Adventure, Casual, Indie, Racing, Simulation, Sports]       1\n",
       "[Action, Massively Multiplayer, RPG, Strategy]                       1\n",
       "[Adventure, Casual, RPG, Simulation, Early Access]                   1\n",
       "Name: count, Length: 883, dtype: int64"
      ]
     },
     "execution_count": 175,
     "metadata": {},
     "output_type": "execute_result"
    }
   ],
   "source": [
    "steam_games[\"genres\"].value_counts() # verificamos la cantidad de valores por genero"
   ]
  },
  {
   "cell_type": "markdown",
   "metadata": {},
   "source": [
    "Aplicamos una función para limpiar la columna 'genres' y rellenar las listas con el string de índice 0 de cada lista y los valores nulos con \"Pending classification\""
   ]
  },
  {
   "cell_type": "code",
   "execution_count": 176,
   "metadata": {},
   "outputs": [],
   "source": [
    "def clean_genres(genres):\n",
    "    if isinstance(genres, list):\n",
    "        return genres[0]\n",
    "    elif isinstance(genres, str):\n",
    "        return genres\n",
    "    else:\n",
    "        return 'Pending classification'"
   ]
  },
  {
   "cell_type": "code",
   "execution_count": 177,
   "metadata": {},
   "outputs": [],
   "source": [
    "# Aplicamos la función a la columna 'genres' y creamos una nueva columna 'genres_clean'\n",
    "steam_games['genres_clean'] = steam_games['genres'].apply(clean_genres)"
   ]
  },
  {
   "cell_type": "code",
   "execution_count": 178,
   "metadata": {},
   "outputs": [
    {
     "data": {
      "text/plain": [
       "genres_clean\n",
       "Action                       11316\n",
       "Casual                        4340\n",
       "Adventure                     4328\n",
       "Indie                         3299\n",
       "Pending classification        3283\n",
       "Simulation                    1852\n",
       "Strategy                      1143\n",
       "RPG                            685\n",
       "Free to Play                   523\n",
       "Racing                         454\n",
       "Design &amp; Illustration      327\n",
       "Animation &amp; Modeling       179\n",
       "Utilities                       93\n",
       "Audio Production                84\n",
       "Sports                          63\n",
       "Massively Multiplayer           49\n",
       "Education                       46\n",
       "Video Production                21\n",
       "Software Training               21\n",
       "Web Publishing                   8\n",
       "Photo Editing                    8\n",
       "Accounting                       7\n",
       "Early Access                     4\n",
       "Name: count, dtype: int64"
      ]
     },
     "execution_count": 178,
     "metadata": {},
     "output_type": "execute_result"
    }
   ],
   "source": [
    "steam_games[\"genres_clean\"].value_counts() # verificamos la cantidad de valores por genero"
   ]
  },
  {
   "cell_type": "markdown",
   "metadata": {},
   "source": [
    "Observamos que 'Pending classification' ocupa el quinto lugar entre los géneros. Por esta razón, decidimos implementar una clase que contenga funciones para los géneros más conocidos. Estas funciones se encargarán de recorrer la nueva columna 'genres_clean'. En caso de encontrar 'Pending classification' en algún campo, reemplazarán ese valor con el género correspondiente encontrado en la columna 'tags'. Este enfoque nos permite evitar la pérdida de información."
   ]
  },
  {
   "cell_type": "code",
   "execution_count": 179,
   "metadata": {},
   "outputs": [],
   "source": [
    "class GenreClassifier:\n",
    "    def replace_pending_with_action(self, row):\n",
    "        if row['genres_clean'] == 'Pending classification':\n",
    "            if isinstance(row['tags'], list):\n",
    "                if 'Action' in row['tags']:\n",
    "                    return 'Action'\n",
    "        return row['genres_clean']\n",
    "\n",
    "    def replace_pending_with_indie(self, row):\n",
    "        if row['genres_clean'] == 'Pending classification':\n",
    "            if isinstance(row['tags'], list):\n",
    "                if 'Indie' in row['tags']:\n",
    "                    return 'Indie'\n",
    "        return row['genres_clean']\n",
    "\n",
    "    def replace_pending_with_casual(self, row):\n",
    "        if row['genres_clean'] == 'Pending classification':\n",
    "            if isinstance(row['tags'], list):\n",
    "                if 'Casual' in row['tags']:\n",
    "                    return 'Casual'\n",
    "        return row['genres_clean']\n",
    "\n",
    "    def replace_pending_with_adventure(self, row):\n",
    "        if row['genres_clean'] == 'Pending classification':\n",
    "            if isinstance(row['tags'], list):\n",
    "                if 'Adventure' in row['tags']:\n",
    "                    return 'Adventure'\n",
    "        return row['genres_clean']\n",
    "\n",
    "    def replace_pending_with_strategy(self, row):\n",
    "        if row['genres_clean'] == 'Pending classification':\n",
    "            if isinstance(row['tags'], list):\n",
    "                if 'Strategy' in row['tags']:\n",
    "                    return 'Strategy'\n",
    "        return row['genres_clean']\n",
    "\n",
    "    def replace_pending_with_rpg(self, row):\n",
    "        if row['genres_clean'] == 'Pending classification':\n",
    "            if isinstance(row['tags'], list):\n",
    "                if 'RPG' in row['tags']:\n",
    "                    return 'RPG'\n",
    "        return row['genres_clean']\n",
    "\n",
    "    def replace_pending_with_simulation(self, row):\n",
    "        if row['genres_clean'] == 'Pending classification':\n",
    "            if isinstance(row['tags'], list):\n",
    "                if 'Simulation' in row['tags']:\n",
    "                    return 'Simulation'\n",
    "        return row['genres_clean']\n",
    "\n",
    "    def replace_pending_with_racing(self, row):\n",
    "        if row['genres_clean'] == 'Pending classification':\n",
    "            if isinstance(row['tags'], list):\n",
    "                if 'Racing' in row['tags']:\n",
    "                    return 'Racing'\n",
    "        return row['genres_clean']\n",
    "\n",
    "    def replace_pending_with_free_to_play(self, row):\n",
    "        if row['genres_clean'] == 'Pending classification':\n",
    "            if isinstance(row['tags'], list):\n",
    "                if 'Free to Play' in row['tags']:\n",
    "                    return 'Free to Play'\n",
    "        return row['genres_clean']"
   ]
  },
  {
   "cell_type": "code",
   "execution_count": 180,
   "metadata": {},
   "outputs": [],
   "source": [
    "# Creamos una instancia de la clase\n",
    "genre_classifier = GenreClassifier()"
   ]
  },
  {
   "cell_type": "code",
   "execution_count": 181,
   "metadata": {},
   "outputs": [],
   "source": [
    "# Aplicamos las funciones a la columna 'genres_clean'\n",
    "steam_games['genres_clean'] = steam_games.apply(genre_classifier.replace_pending_with_action, axis=1)"
   ]
  },
  {
   "cell_type": "code",
   "execution_count": 182,
   "metadata": {},
   "outputs": [],
   "source": [
    "steam_games['genres_clean'] = steam_games.apply(genre_classifier.replace_pending_with_indie, axis=1)"
   ]
  },
  {
   "cell_type": "code",
   "execution_count": 183,
   "metadata": {},
   "outputs": [],
   "source": [
    "steam_games['genres_clean'] = steam_games.apply(genre_classifier.replace_pending_with_casual, axis=1)"
   ]
  },
  {
   "cell_type": "code",
   "execution_count": 184,
   "metadata": {},
   "outputs": [],
   "source": [
    "steam_games['genres_clean'] = steam_games.apply(genre_classifier.replace_pending_with_adventure, axis=1)"
   ]
  },
  {
   "cell_type": "code",
   "execution_count": 185,
   "metadata": {},
   "outputs": [],
   "source": [
    "steam_games['genres_clean'] = steam_games.apply(genre_classifier.replace_pending_with_strategy, axis=1)"
   ]
  },
  {
   "cell_type": "code",
   "execution_count": 186,
   "metadata": {},
   "outputs": [],
   "source": [
    "steam_games['genres_clean'] = steam_games.apply(genre_classifier.replace_pending_with_rpg, axis=1)"
   ]
  },
  {
   "cell_type": "code",
   "execution_count": 187,
   "metadata": {},
   "outputs": [],
   "source": [
    "steam_games['genres_clean'] = steam_games.apply(genre_classifier.replace_pending_with_simulation, axis=1)"
   ]
  },
  {
   "cell_type": "code",
   "execution_count": 188,
   "metadata": {},
   "outputs": [],
   "source": [
    "steam_games['genres_clean'] = steam_games.apply(genre_classifier.replace_pending_with_free_to_play, axis=1)"
   ]
  },
  {
   "cell_type": "code",
   "execution_count": 189,
   "metadata": {},
   "outputs": [
    {
     "data": {
      "text/plain": [
       "array(['Action', 'Free to Play', 'Casual', 'Adventure', 'Indie', 'Racing',\n",
       "       'Pending classification', 'Strategy', 'RPG', 'Simulation',\n",
       "       'Sports', 'Massively Multiplayer', 'Animation &amp; Modeling',\n",
       "       'Utilities', 'Education', 'Design &amp; Illustration',\n",
       "       'Audio Production', 'Video Production', 'Software Training',\n",
       "       'Accounting', 'Web Publishing', 'Photo Editing', 'Early Access'],\n",
       "      dtype=object)"
      ]
     },
     "execution_count": 189,
     "metadata": {},
     "output_type": "execute_result"
    }
   ],
   "source": [
    "steam_games[\"genres_clean\"].unique()"
   ]
  },
  {
   "cell_type": "code",
   "execution_count": 190,
   "metadata": {},
   "outputs": [
    {
     "data": {
      "text/plain": [
       "genres_clean\n",
       "Action                       12428\n",
       "Casual                        4528\n",
       "Adventure                     4386\n",
       "Indie                         3906\n",
       "Simulation                    1927\n",
       "Pending classification        1207\n",
       "Strategy                      1152\n",
       "RPG                            693\n",
       "Free to Play                   542\n",
       "Racing                         454\n",
       "Design &amp; Illustration      327\n",
       "Animation &amp; Modeling       179\n",
       "Utilities                       93\n",
       "Audio Production                84\n",
       "Sports                          63\n",
       "Massively Multiplayer           49\n",
       "Education                       46\n",
       "Video Production                21\n",
       "Software Training               21\n",
       "Web Publishing                   8\n",
       "Photo Editing                    8\n",
       "Accounting                       7\n",
       "Early Access                     4\n",
       "Name: count, dtype: int64"
      ]
     },
     "execution_count": 190,
     "metadata": {},
     "output_type": "execute_result"
    }
   ],
   "source": [
    "steam_games[\"genres_clean\"].value_counts()"
   ]
  },
  {
   "cell_type": "code",
   "execution_count": 191,
   "metadata": {},
   "outputs": [
    {
     "data": {
      "text/plain": [
       "3283"
      ]
     },
     "execution_count": 191,
     "metadata": {},
     "output_type": "execute_result"
    }
   ],
   "source": [
    "steam_games[\"genres\"].isnull().sum() # verificamos la cantidad de nulos de la columna \"genres\""
   ]
  },
  {
   "cell_type": "code",
   "execution_count": 192,
   "metadata": {},
   "outputs": [
    {
     "data": {
      "text/plain": [
       "0"
      ]
     },
     "execution_count": 192,
     "metadata": {},
     "output_type": "execute_result"
    }
   ],
   "source": [
    "steam_games[\"genres_clean\"].isnull().sum() # verificamos la cantidad de nulos de la columna \"genres_clean\""
   ]
  },
  {
   "cell_type": "markdown",
   "metadata": {},
   "source": [
    "Al comparar la cantidad de nulos de las columnas 'genres y 'genres_clean', tomamos las decisión de eliminar la columna 'genres' y quedarnos con la columna 'genres_clean' que cuenta con un 100% de datos no nulos."
   ]
  },
  {
   "cell_type": "code",
   "execution_count": 193,
   "metadata": {},
   "outputs": [],
   "source": [
    "# Eliminamos la columna 'genres'\n",
    "steam_games = steam_games.drop('genres', axis=1)"
   ]
  },
  {
   "cell_type": "code",
   "execution_count": 194,
   "metadata": {},
   "outputs": [],
   "source": [
    "# Renombramos 'genres_clean' como 'genres'\n",
    "steam_games = steam_games.rename(columns={'genres_clean': 'genres'})"
   ]
  },
  {
   "cell_type": "code",
   "execution_count": 195,
   "metadata": {},
   "outputs": [
    {
     "name": "stdout",
     "output_type": "stream",
     "text": [
      "<class 'pandas.core.frame.DataFrame'>\n",
      "Index: 32133 entries, 0 to 32134\n",
      "Data columns (total 13 columns):\n",
      " #   Column        Non-Null Count  Dtype  \n",
      "---  ------        --------------  -----  \n",
      " 0   publisher     24081 non-null  object \n",
      " 1   app_name      32131 non-null  object \n",
      " 2   title         30083 non-null  object \n",
      " 3   url           32133 non-null  object \n",
      " 4   tags          31970 non-null  object \n",
      " 5   reviews_url   32132 non-null  object \n",
      " 6   specs         31463 non-null  object \n",
      " 7   price         32133 non-null  float64\n",
      " 8   early_access  32133 non-null  object \n",
      " 9   id            32132 non-null  object \n",
      " 10  developer     28834 non-null  object \n",
      " 11  release_year  32133 non-null  int32  \n",
      " 12  genres        32133 non-null  object \n",
      "dtypes: float64(1), int32(1), object(11)\n",
      "memory usage: 4.3+ MB\n"
     ]
    }
   ],
   "source": [
    "steam_games.info() # obtenemos información de las columnas en búsqueda de nulos"
   ]
  },
  {
   "cell_type": "code",
   "execution_count": 196,
   "metadata": {},
   "outputs": [
    {
     "data": {
      "text/plain": [
       "publisher       25.058351\n",
       "app_name         0.006224\n",
       "title            6.379734\n",
       "url              0.000000\n",
       "tags             0.507267\n",
       "reviews_url      0.003112\n",
       "specs            2.085084\n",
       "price            0.000000\n",
       "early_access     0.000000\n",
       "id               0.003112\n",
       "developer       10.266704\n",
       "release_year     0.000000\n",
       "genres           0.000000\n",
       "dtype: float64"
      ]
     },
     "execution_count": 196,
     "metadata": {},
     "output_type": "execute_result"
    }
   ],
   "source": [
    "total_filas = len(steam_games)\n",
    "nulos_por_columna = steam_games.isnull().sum()\n",
    "porcentaje_nulos_por_columna = (nulos_por_columna / total_filas) * 100\n",
    "porcentaje_nulos_por_columna"
   ]
  },
  {
   "cell_type": "markdown",
   "metadata": {},
   "source": [
    "Por último y para finalizar el trabajo en esta columna y ya habiendo cumplido con su propósito, eliminamos la columna 'tags'."
   ]
  },
  {
   "cell_type": "code",
   "execution_count": 197,
   "metadata": {},
   "outputs": [],
   "source": [
    "#Eliminamos la columna 'tags'\n",
    "steam_games = steam_games.drop('tags', axis=1)"
   ]
  },
  {
   "cell_type": "markdown",
   "metadata": {},
   "source": [
    "Columna 'specs'\n",
    "Esta columna, almacena información sobre especificaciones técnicas de los juegos, tales como si es \"Single-player\", \"Multi-player\", \"Co-op\", etc., haciendo que la misma no sea de mucha utilidad para nuestro análisis. Por esta razón, decidimos eliminarla."
   ]
  },
  {
   "cell_type": "code",
   "execution_count": 198,
   "metadata": {},
   "outputs": [],
   "source": [
    "steam_games = steam_games.drop('specs', axis=1)"
   ]
  },
  {
   "cell_type": "markdown",
   "metadata": {},
   "source": [
    "Columnas \"publisher\" y \"developer\"\n",
    "Apreciamos que las columnas 'publisher' y 'developer' cuentan con un 25% y 10% de datos nulos respectivamente. Por esta razón, y en función de que suelen estar directamente relacionadas, optamos por aplicar una funcion que nos permita rellenar los valores nulos de la columna 'developer' con los valores coincidentes en el mismo campo de la columna 'publisher'."
   ]
  },
  {
   "cell_type": "code",
   "execution_count": 199,
   "metadata": {},
   "outputs": [],
   "source": [
    "def fill_null_developers_with_publisher(row):\n",
    "    if pd.isnull(row['developer']):\n",
    "        return row['publisher']\n",
    "    return row['developer']\n",
    "\n",
    "# AplicaMOS la función a la columna 'developer'\n",
    "steam_games['developer'] = steam_games.apply(fill_null_developers_with_publisher, axis=1)"
   ]
  },
  {
   "cell_type": "code",
   "execution_count": 200,
   "metadata": {},
   "outputs": [
    {
     "name": "stdout",
     "output_type": "stream",
     "text": [
      "<class 'pandas.core.frame.DataFrame'>\n",
      "Index: 32133 entries, 0 to 32134\n",
      "Data columns (total 11 columns):\n",
      " #   Column        Non-Null Count  Dtype  \n",
      "---  ------        --------------  -----  \n",
      " 0   publisher     24081 non-null  object \n",
      " 1   app_name      32131 non-null  object \n",
      " 2   title         30083 non-null  object \n",
      " 3   url           32133 non-null  object \n",
      " 4   reviews_url   32132 non-null  object \n",
      " 5   price         32133 non-null  float64\n",
      " 6   early_access  32133 non-null  object \n",
      " 7   id            32132 non-null  object \n",
      " 8   developer     28899 non-null  object \n",
      " 9   release_year  32133 non-null  int32  \n",
      " 10  genres        32133 non-null  object \n",
      "dtypes: float64(1), int32(1), object(9)\n",
      "memory usage: 3.8+ MB\n"
     ]
    }
   ],
   "source": [
    "steam_games.info()"
   ]
  },
  {
   "cell_type": "markdown",
   "metadata": {},
   "source": [
    "Teniendo en cuenta que las consignas de funciones nos piden trabajar con DESARROLLADORES, optamos por eliminar la columna 'publisher' y quedarnos con la columna developer."
   ]
  },
  {
   "cell_type": "code",
   "execution_count": 201,
   "metadata": {},
   "outputs": [],
   "source": [
    "# Eliminamos la columna 'publisher'\n",
    "steam_games = steam_games.drop('publisher', axis=1)"
   ]
  },
  {
   "cell_type": "markdown",
   "metadata": {},
   "source": [
    "Basándonos en un análisis previo y para evitar el sesgo que podría generar rellenar los campos nulos de la columna developer con 'No Data', siendo esta columna de mucha importancia para los endpoints. Decidimos eliminar las filas que contengan valores nulos en la columna developer."
   ]
  },
  {
   "cell_type": "code",
   "execution_count": 202,
   "metadata": {},
   "outputs": [],
   "source": [
    "# Filtramos y mantenemos solo las filas donde 'developer' no sea nulo\n",
    "steam_games = steam_games[steam_games['developer'].notnull()]\n",
    "\n",
    "# Reestablecemos los índices despúes de filtrar\n",
    "steam_games = steam_games.reset_index(drop=True)"
   ]
  },
  {
   "cell_type": "markdown",
   "metadata": {},
   "source": [
    "###Columna \"id\""
   ]
  },
  {
   "cell_type": "code",
   "execution_count": 203,
   "metadata": {},
   "outputs": [],
   "source": [
    "# Rellenamos los valores NaN en la columna 'id' con 'No Data'\n",
    "steam_games['id'] = steam_games['id'].fillna('No Data')\n",
    "\n",
    "# Convertimos la columna 'id' a tipo string\n",
    "steam_games['id'] = steam_games['id'].astype(str)"
   ]
  },
  {
   "cell_type": "code",
   "execution_count": 204,
   "metadata": {},
   "outputs": [],
   "source": [
    "# Renombramos la columna 'id' como 'item_id'\n",
    "steam_games = steam_games.rename(columns={'id': 'item_id'})"
   ]
  },
  {
   "cell_type": "code",
   "execution_count": 205,
   "metadata": {},
   "outputs": [
    {
     "name": "stdout",
     "output_type": "stream",
     "text": [
      "<class 'pandas.core.frame.DataFrame'>\n",
      "RangeIndex: 28899 entries, 0 to 28898\n",
      "Data columns (total 10 columns):\n",
      " #   Column        Non-Null Count  Dtype  \n",
      "---  ------        --------------  -----  \n",
      " 0   app_name      28899 non-null  object \n",
      " 1   title         28899 non-null  object \n",
      " 2   url           28899 non-null  object \n",
      " 3   reviews_url   28899 non-null  object \n",
      " 4   price         28899 non-null  float64\n",
      " 5   early_access  28899 non-null  object \n",
      " 6   item_id       28899 non-null  object \n",
      " 7   developer     28899 non-null  object \n",
      " 8   release_year  28899 non-null  int32  \n",
      " 9   genres        28899 non-null  object \n",
      "dtypes: float64(1), int32(1), object(8)\n",
      "memory usage: 2.1+ MB\n"
     ]
    }
   ],
   "source": [
    "# Verificamos la información de las columnas\n",
    "steam_games.info()"
   ]
  },
  {
   "cell_type": "markdown",
   "metadata": {},
   "source": [
    "###Columnas \"early_access\", \"url\" y \"review_url\""
   ]
  },
  {
   "cell_type": "markdown",
   "metadata": {},
   "source": [
    "Estas columnas no aportan información relevante para nuestro análisis, por lo que decidimos eliminarlas."
   ]
  },
  {
   "cell_type": "code",
   "execution_count": 206,
   "metadata": {},
   "outputs": [],
   "source": [
    "# Eliminamos las columnas 'early_access', 'url' y 'reviews_url'\n",
    "steam_games = steam_games.drop(['early_access', 'url', 'reviews_url'], axis=1)"
   ]
  },
  {
   "cell_type": "markdown",
   "metadata": {},
   "source": [
    "Columnas \"app_name\" y \"title\"\n",
    "Las columnas 'app_name' y 'title' cuentan con un 0.006% y 6.37% de datos nulos respectivamente. Por esta razón, y en función de que estan directamente relacionadas, optamos por eliminar la segunda."
   ]
  },
  {
   "cell_type": "code",
   "execution_count": 207,
   "metadata": {},
   "outputs": [
    {
     "name": "stdout",
     "output_type": "stream",
     "text": [
      "<class 'pandas.core.frame.DataFrame'>\n",
      "RangeIndex: 28899 entries, 0 to 28898\n",
      "Data columns (total 6 columns):\n",
      " #   Column        Non-Null Count  Dtype  \n",
      "---  ------        --------------  -----  \n",
      " 0   app_name      28899 non-null  object \n",
      " 1   price         28899 non-null  float64\n",
      " 2   item_id       28899 non-null  object \n",
      " 3   developer     28899 non-null  object \n",
      " 4   release_year  28899 non-null  int32  \n",
      " 5   genres        28899 non-null  object \n",
      "dtypes: float64(1), int32(1), object(4)\n",
      "memory usage: 1.2+ MB\n"
     ]
    }
   ],
   "source": [
    "# Eliminamos la columna 'title'\n",
    "steam_games = steam_games.drop('title', axis=1)\n",
    "steam_games.info()"
   ]
  },
  {
   "cell_type": "markdown",
   "metadata": {},
   "source": [
    "###Guardamos el dataset como CSV"
   ]
  },
  {
   "cell_type": "code",
   "execution_count": 208,
   "metadata": {},
   "outputs": [],
   "source": [
    "steam_games.to_csv(\"steam_games.csv\", index=False, encoding=\"utf-8\")"
   ]
  },
  {
   "cell_type": "markdown",
   "metadata": {},
   "source": [
    "Hemos optado por convertir el archivo CSV al formato Parquet con el fin de optimizar el almacenamiento y mejorar la eficiencia en las operaciones de lectura y escritura. La elección de la transformación a Parquet se fundamenta en su facilidad para manejar conjuntos de datos complejos. Esta conversión facilita el procesamiento distribuido y ofrece opciones avanzadas de compresión, lo que contribuye a una gestión más eficiente de los recursos y a un mejor rendimiento en entornos de procesamiento de datos."
   ]
  },
  {
   "cell_type": "code",
   "execution_count": 209,
   "metadata": {},
   "outputs": [],
   "source": [
    "steam_games = pd.read_csv(\"steam_games.csv\") # leemos el archivo csv\n",
    "\n",
    "tabla = pa.Table.from_pandas(steam_games) # convertimos el dataframe en una tabla\n",
    "pq.write_table(tabla,\"steam_games.parquet\") # guardamos la tabla en un archivo parquet"
   ]
  },
  {
   "cell_type": "markdown",
   "metadata": {},
   "source": []
  }
 ],
 "metadata": {
  "kernelspec": {
   "display_name": "Python 3",
   "language": "python",
   "name": "python3"
  },
  "language_info": {
   "codemirror_mode": {
    "name": "ipython",
    "version": 3
   },
   "file_extension": ".py",
   "mimetype": "text/x-python",
   "name": "python",
   "nbconvert_exporter": "python",
   "pygments_lexer": "ipython3",
   "version": "3.11.6"
  }
 },
 "nbformat": 4,
 "nbformat_minor": 2
}
