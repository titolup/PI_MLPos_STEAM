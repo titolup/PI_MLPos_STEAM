{
 "cells": [
  {
   "cell_type": "markdown",
   "metadata": {},
   "source": [
    "##*FUNCIONES *ENDPOINT*"
   ]
  },
  {
   "cell_type": "markdown",
   "metadata": {},
   "source": [
    "###Importamos Librerias"
   ]
  },
  {
   "cell_type": "code",
   "execution_count": 24,
   "metadata": {},
   "outputs": [],
   "source": [
    "import pandas as pd\n",
    "import pyarrow as pa\n",
    "import pyarrow.parquet as pq\n",
    "import warnings\n",
    "warnings.filterwarnings('ignore')"
   ]
  },
  {
   "cell_type": "markdown",
   "metadata": {},
   "source": [
    "###Funcion 1:\n",
    "\n",
    " developer( desarrollador : str ): Cantidad de items y porcentaje de contenido Free por año según empresa desarrolladora. Ejemplo de retorno:"
   ]
  },
  {
   "cell_type": "code",
   "execution_count": 25,
   "metadata": {},
   "outputs": [
    {
     "data": {
      "text/html": [
       "<div>\n",
       "<style scoped>\n",
       "    .dataframe tbody tr th:only-of-type {\n",
       "        vertical-align: middle;\n",
       "    }\n",
       "\n",
       "    .dataframe tbody tr th {\n",
       "        vertical-align: top;\n",
       "    }\n",
       "\n",
       "    .dataframe thead th {\n",
       "        text-align: right;\n",
       "    }\n",
       "</style>\n",
       "<table border=\"1\" class=\"dataframe\">\n",
       "  <thead>\n",
       "    <tr style=\"text-align: right;\">\n",
       "      <th></th>\n",
       "      <th>price</th>\n",
       "      <th>item_id</th>\n",
       "      <th>developer</th>\n",
       "      <th>release_year</th>\n",
       "    </tr>\n",
       "  </thead>\n",
       "  <tbody>\n",
       "    <tr>\n",
       "      <th>0</th>\n",
       "      <td>9.99</td>\n",
       "      <td>282010</td>\n",
       "      <td>Stainless Games Ltd</td>\n",
       "      <td>1997</td>\n",
       "    </tr>\n",
       "    <tr>\n",
       "      <th>1</th>\n",
       "      <td>9.99</td>\n",
       "      <td>70</td>\n",
       "      <td>Valve</td>\n",
       "      <td>1998</td>\n",
       "    </tr>\n",
       "    <tr>\n",
       "      <th>2</th>\n",
       "      <td>9.99</td>\n",
       "      <td>70</td>\n",
       "      <td>Valve</td>\n",
       "      <td>1998</td>\n",
       "    </tr>\n",
       "    <tr>\n",
       "      <th>3</th>\n",
       "      <td>9.99</td>\n",
       "      <td>70</td>\n",
       "      <td>Valve</td>\n",
       "      <td>1998</td>\n",
       "    </tr>\n",
       "    <tr>\n",
       "      <th>4</th>\n",
       "      <td>9.99</td>\n",
       "      <td>70</td>\n",
       "      <td>Valve</td>\n",
       "      <td>1998</td>\n",
       "    </tr>\n",
       "  </tbody>\n",
       "</table>\n",
       "</div>"
      ],
      "text/plain": [
       "   price  item_id            developer  release_year\n",
       "0   9.99   282010  Stainless Games Ltd          1997\n",
       "1   9.99       70                Valve          1998\n",
       "2   9.99       70                Valve          1998\n",
       "3   9.99       70                Valve          1998\n",
       "4   9.99       70                Valve          1998"
      ]
     },
     "execution_count": 25,
     "metadata": {},
     "output_type": "execute_result"
    }
   ],
   "source": [
    "#Leemos el archivo reviews.parquet en un DataFrame\n",
    "df_EP1 = pq.read_table(\"1_desarrollador.parquet\").to_pandas()\n",
    "df_EP1.head(5)"
   ]
  },
  {
   "cell_type": "code",
   "execution_count": 26,
   "metadata": {},
   "outputs": [],
   "source": [
    "def developer(desarrollador: str):\n",
    "    \n",
    "    listaaños = df_EP1.release_year.unique() #almaceno en una variable los valores unicos del campo Año\n",
    "    listadeveloper = df_EP1.developer.unique() #almaceno en una variable los valores unicos del campo developer\n",
    "    \n",
    "    lista = []\n",
    "    \n",
    "    if desarrollador in listadeveloper: \n",
    "        for años in listaaños:\n",
    "            todo = len(df_EP1[(df_EP1.release_year == años) & (df_EP1.developer == desarrollador)])\n",
    "            cantidaditems = len(df_EP1[(df_EP1.price == 0) & (df_EP1.release_year == años) & (df_EP1.developer == desarrollador)])\n",
    "            if todo != 0 or cantidaditems != 0:\n",
    "                porcentaje = f\"{round(cantidaditems*100/todo,2)}%\"\n",
    "                lista.append([años,cantidaditems,porcentaje])\n",
    "            else:\n",
    "                pass\n",
    "    elif desarrollador not in listadeveloper:\n",
    "        print('No cuento con los registros de esa empresa en mi base de datos')\n",
    "\n",
    "    df = pd.DataFrame(lista, columns=[\"release_year\", \"Cantidad de Items\", \"Contenido Free\"])# Crear un DataFrame a partir del diccionario\n",
    "    df.columns = [\"release_year\", \"Cantidad de Items\", \"Contenido Free\"]# Agregar la fila de encabezado\n",
    "    df = df.sort_values(by='release_year',ascending=False)\n",
    "    return df"
   ]
  },
  {
   "cell_type": "code",
   "execution_count": 27,
   "metadata": {},
   "outputs": [
    {
     "data": {
      "text/html": [
       "<div>\n",
       "<style scoped>\n",
       "    .dataframe tbody tr th:only-of-type {\n",
       "        vertical-align: middle;\n",
       "    }\n",
       "\n",
       "    .dataframe tbody tr th {\n",
       "        vertical-align: top;\n",
       "    }\n",
       "\n",
       "    .dataframe thead th {\n",
       "        text-align: right;\n",
       "    }\n",
       "</style>\n",
       "<table border=\"1\" class=\"dataframe\">\n",
       "  <thead>\n",
       "    <tr style=\"text-align: right;\">\n",
       "      <th></th>\n",
       "      <th>release_year</th>\n",
       "      <th>Cantidad de Items</th>\n",
       "      <th>Contenido Free</th>\n",
       "    </tr>\n",
       "  </thead>\n",
       "  <tbody>\n",
       "    <tr>\n",
       "      <th>3</th>\n",
       "      <td>2010</td>\n",
       "      <td>0</td>\n",
       "      <td>0.0%</td>\n",
       "    </tr>\n",
       "    <tr>\n",
       "      <th>2</th>\n",
       "      <td>2009</td>\n",
       "      <td>0</td>\n",
       "      <td>0.0%</td>\n",
       "    </tr>\n",
       "    <tr>\n",
       "      <th>1</th>\n",
       "      <td>2007</td>\n",
       "      <td>9</td>\n",
       "      <td>69.23%</td>\n",
       "    </tr>\n",
       "    <tr>\n",
       "      <th>0</th>\n",
       "      <td>2006</td>\n",
       "      <td>0</td>\n",
       "      <td>0.0%</td>\n",
       "    </tr>\n",
       "  </tbody>\n",
       "</table>\n",
       "</div>"
      ],
      "text/plain": [
       "   release_year  Cantidad de Items Contenido Free\n",
       "3          2010                  0           0.0%\n",
       "2          2009                  0           0.0%\n",
       "1          2007                  9         69.23%\n",
       "0          2006                  0           0.0%"
      ]
     },
     "execution_count": 27,
     "metadata": {},
     "output_type": "execute_result"
    }
   ],
   "source": [
    "developer('PopCap Games, Inc.')"
   ]
  },
  {
   "cell_type": "markdown",
   "metadata": {},
   "source": [
    "###Funcion 2:\n",
    "\n",
    "def userdata( User_id : str ): Debe devolver cantidad de dinero gastado por el usuario, el porcentaje de recomendación en base a reviews.recommend y cantidad de items."
   ]
  },
  {
   "cell_type": "code",
   "execution_count": 5,
   "metadata": {},
   "outputs": [
    {
     "data": {
      "text/html": [
       "<div>\n",
       "<style scoped>\n",
       "    .dataframe tbody tr th:only-of-type {\n",
       "        vertical-align: middle;\n",
       "    }\n",
       "\n",
       "    .dataframe tbody tr th {\n",
       "        vertical-align: top;\n",
       "    }\n",
       "\n",
       "    .dataframe thead th {\n",
       "        text-align: right;\n",
       "    }\n",
       "</style>\n",
       "<table border=\"1\" class=\"dataframe\">\n",
       "  <thead>\n",
       "    <tr style=\"text-align: right;\">\n",
       "      <th></th>\n",
       "      <th>price</th>\n",
       "      <th>user_id</th>\n",
       "      <th>recommend</th>\n",
       "      <th>posted_year</th>\n",
       "    </tr>\n",
       "  </thead>\n",
       "  <tbody>\n",
       "    <tr>\n",
       "      <th>0</th>\n",
       "      <td>9.99</td>\n",
       "      <td>BlazingTheAmazing</td>\n",
       "      <td>True</td>\n",
       "      <td>2013</td>\n",
       "    </tr>\n",
       "    <tr>\n",
       "      <th>1</th>\n",
       "      <td>9.99</td>\n",
       "      <td>exiaez</td>\n",
       "      <td>True</td>\n",
       "      <td>2015</td>\n",
       "    </tr>\n",
       "    <tr>\n",
       "      <th>2</th>\n",
       "      <td>9.99</td>\n",
       "      <td>mrpfresh</td>\n",
       "      <td>True</td>\n",
       "      <td>2011</td>\n",
       "    </tr>\n",
       "    <tr>\n",
       "      <th>3</th>\n",
       "      <td>9.99</td>\n",
       "      <td>armouredmarshmallow</td>\n",
       "      <td>True</td>\n",
       "      <td>2014</td>\n",
       "    </tr>\n",
       "    <tr>\n",
       "      <th>4</th>\n",
       "      <td>9.99</td>\n",
       "      <td>Bluegills</td>\n",
       "      <td>True</td>\n",
       "      <td>2013</td>\n",
       "    </tr>\n",
       "  </tbody>\n",
       "</table>\n",
       "</div>"
      ],
      "text/plain": [
       "   price              user_id  recommend  posted_year\n",
       "0   9.99    BlazingTheAmazing       True         2013\n",
       "1   9.99               exiaez       True         2015\n",
       "2   9.99             mrpfresh       True         2011\n",
       "3   9.99  armouredmarshmallow       True         2014\n",
       "4   9.99            Bluegills       True         2013"
      ]
     },
     "execution_count": 5,
     "metadata": {},
     "output_type": "execute_result"
    }
   ],
   "source": [
    "#Leemos el archivo reviews.parquet en un DataFrame\n",
    "df_EP2 = pq.read_table(\"2User_id.parquet\").to_pandas()\n",
    "df_EP2.head(5)"
   ]
  },
  {
   "cell_type": "code",
   "execution_count": 6,
   "metadata": {},
   "outputs": [],
   "source": [
    "def userdata(usuario):\n",
    "    lista = df_EP2.user_id.unique()\n",
    "    if usuario in lista:\n",
    "        dfusuario = df_EP2[(df_EP2.user_id == usuario)]\n",
    "        maneyuser = f\"{round(dfusuario.price.sum(),2)} USD\"\n",
    "        recomend = f\"{int(len(dfusuario[dfusuario.recommend == 1])*100/len(dfusuario))}%\"\n",
    "        itemss = len(dfusuario)\n",
    "        data = {\"User\": usuario, \n",
    "                \"Dinero gastado\": maneyuser, \"% de recomendación\": recomend, \"cantidad de items\": itemss}\n",
    "        return data"
   ]
  },
  {
   "cell_type": "code",
   "execution_count": 7,
   "metadata": {},
   "outputs": [
    {
     "data": {
      "text/plain": [
       "{'User': 'digfernandes',\n",
       " 'Dinero gastado': '179.92 USD',\n",
       " '% de recomendación': '87%',\n",
       " 'cantidad de items': 8}"
      ]
     },
     "execution_count": 7,
     "metadata": {},
     "output_type": "execute_result"
    }
   ],
   "source": [
    "userdata('digfernandes')"
   ]
  },
  {
   "cell_type": "markdown",
   "metadata": {},
   "source": [
    "###Funcion 3:\n",
    "\n",
    "def UserForGenre( genero : str ): Debe devolver el usuario que acumula más horas jugadas para el género dado y una lista de la acumulación de horas jugadas por año de lanzamiento."
   ]
  },
  {
   "cell_type": "code",
   "execution_count": 8,
   "metadata": {},
   "outputs": [
    {
     "data": {
      "text/html": [
       "<div>\n",
       "<style scoped>\n",
       "    .dataframe tbody tr th:only-of-type {\n",
       "        vertical-align: middle;\n",
       "    }\n",
       "\n",
       "    .dataframe tbody tr th {\n",
       "        vertical-align: top;\n",
       "    }\n",
       "\n",
       "    .dataframe thead th {\n",
       "        text-align: right;\n",
       "    }\n",
       "</style>\n",
       "<table border=\"1\" class=\"dataframe\">\n",
       "  <thead>\n",
       "    <tr style=\"text-align: right;\">\n",
       "      <th></th>\n",
       "      <th>release_year</th>\n",
       "      <th>genres</th>\n",
       "      <th>user_id</th>\n",
       "      <th>playtime_hours</th>\n",
       "    </tr>\n",
       "  </thead>\n",
       "  <tbody>\n",
       "    <tr>\n",
       "      <th>0</th>\n",
       "      <td>1998</td>\n",
       "      <td>Action</td>\n",
       "      <td>mrpfresh</td>\n",
       "      <td>2.32</td>\n",
       "    </tr>\n",
       "    <tr>\n",
       "      <th>1</th>\n",
       "      <td>1998</td>\n",
       "      <td>Action</td>\n",
       "      <td>armouredmarshmallow</td>\n",
       "      <td>13.13</td>\n",
       "    </tr>\n",
       "    <tr>\n",
       "      <th>2</th>\n",
       "      <td>1998</td>\n",
       "      <td>Action</td>\n",
       "      <td>Bluegills</td>\n",
       "      <td>1.07</td>\n",
       "    </tr>\n",
       "    <tr>\n",
       "      <th>3</th>\n",
       "      <td>1998</td>\n",
       "      <td>Action</td>\n",
       "      <td>76561198071955492</td>\n",
       "      <td>53.92</td>\n",
       "    </tr>\n",
       "    <tr>\n",
       "      <th>4</th>\n",
       "      <td>1998</td>\n",
       "      <td>Action</td>\n",
       "      <td>digfernandes</td>\n",
       "      <td>21.68</td>\n",
       "    </tr>\n",
       "  </tbody>\n",
       "</table>\n",
       "</div>"
      ],
      "text/plain": [
       "   release_year  genres              user_id  playtime_hours\n",
       "0          1998  Action             mrpfresh            2.32\n",
       "1          1998  Action  armouredmarshmallow           13.13\n",
       "2          1998  Action            Bluegills            1.07\n",
       "3          1998  Action    76561198071955492           53.92\n",
       "4          1998  Action         digfernandes           21.68"
      ]
     },
     "execution_count": 8,
     "metadata": {},
     "output_type": "execute_result"
    }
   ],
   "source": [
    "#Leemos el archivo reviews.parquet en un DataFrame\n",
    "df_EP3 = pq.read_table(\"3genero.parquet\").to_pandas()\n",
    "df_EP3.head(5)"
   ]
  },
  {
   "cell_type": "code",
   "execution_count": 9,
   "metadata": {},
   "outputs": [],
   "source": [
    "def UserForGenre(genero):  \n",
    "\n",
    "    años = df_EP3.release_year.unique()\n",
    "    lista = []\n",
    "    df_genero = df_EP3[df_EP3.genres == genero]\n",
    "    usuario = df_genero.groupby('user_id')[\"playtime_hours\"].sum().idxmax()\n",
    "    for i in años:\n",
    "        df = df_genero[df_genero.release_year == i]\n",
    "        usuario2 = df[df.user_id == usuario][\"playtime_hours\"].sum()\n",
    "\n",
    "        lista.append([i,usuario,usuario2])\n",
    "    lista_ordenada = sorted(lista, key=lambda x: x[0], reverse=True)\n",
    "    return lista_ordenada"
   ]
  },
  {
   "cell_type": "code",
   "execution_count": 10,
   "metadata": {},
   "outputs": [
    {
     "data": {
      "text/plain": [
       "[[2017, 'companothemuslim', 0.0],\n",
       " [2016, 'companothemuslim', 0.0],\n",
       " [2015, 'companothemuslim', 96.08],\n",
       " [2014, 'companothemuslim', 0.0],\n",
       " [2013, 'companothemuslim', 0.0],\n",
       " [2012, 'companothemuslim', 475.83],\n",
       " [2011, 'companothemuslim', 0.0],\n",
       " [2010, 'companothemuslim', 0.0],\n",
       " [2009, 'companothemuslim', 0.0],\n",
       " [2008, 'companothemuslim', 0.0],\n",
       " [2007, 'companothemuslim', 0.0],\n",
       " [2006, 'companothemuslim', 0.0],\n",
       " [2005, 'companothemuslim', 0.0],\n",
       " [2004, 'companothemuslim', 0.0],\n",
       " [2003, 'companothemuslim', 0.0],\n",
       " [2002, 'companothemuslim', 0.0],\n",
       " [2001, 'companothemuslim', 0.0],\n",
       " [2000, 'companothemuslim', 0.0],\n",
       " [1999, 'companothemuslim', 0.0],\n",
       " [1998, 'companothemuslim', 0.0],\n",
       " [1997, 'companothemuslim', 0.0],\n",
       " [1995, 'companothemuslim', 0.0],\n",
       " [1993, 'companothemuslim', 0.0],\n",
       " [1990, 'companothemuslim', 0.0]]"
      ]
     },
     "execution_count": 10,
     "metadata": {},
     "output_type": "execute_result"
    }
   ],
   "source": [
    "UserForGenre('RPG')"
   ]
  },
  {
   "cell_type": "markdown",
   "metadata": {},
   "source": [
    "###Funcion 4:\n",
    "\n",
    "def best_developer_year( año : int ): Devuelve el top 3 de desarrolladores con juegos MÁS recomendados por usuarios para el año dado. (reviews.recommend = True y comentarios positivos)"
   ]
  },
  {
   "cell_type": "code",
   "execution_count": 11,
   "metadata": {},
   "outputs": [
    {
     "data": {
      "text/html": [
       "<div>\n",
       "<style scoped>\n",
       "    .dataframe tbody tr th:only-of-type {\n",
       "        vertical-align: middle;\n",
       "    }\n",
       "\n",
       "    .dataframe tbody tr th {\n",
       "        vertical-align: top;\n",
       "    }\n",
       "\n",
       "    .dataframe thead th {\n",
       "        text-align: right;\n",
       "    }\n",
       "</style>\n",
       "<table border=\"1\" class=\"dataframe\">\n",
       "  <thead>\n",
       "    <tr style=\"text-align: right;\">\n",
       "      <th></th>\n",
       "      <th>developer</th>\n",
       "      <th>release_year</th>\n",
       "      <th>user_id</th>\n",
       "      <th>recommend</th>\n",
       "      <th>sentiment_analysis</th>\n",
       "    </tr>\n",
       "  </thead>\n",
       "  <tbody>\n",
       "    <tr>\n",
       "      <th>0</th>\n",
       "      <td>Stainless Games Ltd</td>\n",
       "      <td>1997</td>\n",
       "      <td>BlazingTheAmazing</td>\n",
       "      <td>True</td>\n",
       "      <td>1</td>\n",
       "    </tr>\n",
       "    <tr>\n",
       "      <th>1</th>\n",
       "      <td>Valve</td>\n",
       "      <td>1998</td>\n",
       "      <td>exiaez</td>\n",
       "      <td>True</td>\n",
       "      <td>1</td>\n",
       "    </tr>\n",
       "    <tr>\n",
       "      <th>2</th>\n",
       "      <td>Valve</td>\n",
       "      <td>1998</td>\n",
       "      <td>mrpfresh</td>\n",
       "      <td>True</td>\n",
       "      <td>0</td>\n",
       "    </tr>\n",
       "    <tr>\n",
       "      <th>3</th>\n",
       "      <td>Valve</td>\n",
       "      <td>1998</td>\n",
       "      <td>armouredmarshmallow</td>\n",
       "      <td>True</td>\n",
       "      <td>1</td>\n",
       "    </tr>\n",
       "    <tr>\n",
       "      <th>4</th>\n",
       "      <td>Valve</td>\n",
       "      <td>1998</td>\n",
       "      <td>Bluegills</td>\n",
       "      <td>True</td>\n",
       "      <td>2</td>\n",
       "    </tr>\n",
       "  </tbody>\n",
       "</table>\n",
       "</div>"
      ],
      "text/plain": [
       "             developer  release_year              user_id  recommend  \\\n",
       "0  Stainless Games Ltd          1997    BlazingTheAmazing       True   \n",
       "1                Valve          1998               exiaez       True   \n",
       "2                Valve          1998             mrpfresh       True   \n",
       "3                Valve          1998  armouredmarshmallow       True   \n",
       "4                Valve          1998            Bluegills       True   \n",
       "\n",
       "   sentiment_analysis  \n",
       "0                   1  \n",
       "1                   1  \n",
       "2                   0  \n",
       "3                   1  \n",
       "4                   2  "
      ]
     },
     "execution_count": 11,
     "metadata": {},
     "output_type": "execute_result"
    }
   ],
   "source": [
    "#Leemos el archivo reviews.parquet en un DataFrame\n",
    "df_EP4 = pq.read_table(\"4año.parquet\").to_pandas()\n",
    "df_EP4.head(5)"
   ]
  },
  {
   "cell_type": "code",
   "execution_count": 12,
   "metadata": {},
   "outputs": [],
   "source": [
    "def best_developer_year(year):\n",
    "    rango_aceptado = range(2010, 2016)\n",
    "    if year not in rango_aceptado:\n",
    "        return {\"message\": \"Mi base de datos solo tiene registros entre 2010 y 2015\"}\n",
    "    year = int(year)\n",
    "    recom = df_EP4[(df_EP4.recommend == 1) & (df_EP4.sentiment_analysis == 2) & (df_EP4.año == year)]\n",
    "    developer_recommendations = recom.groupby(\"developer\")[\"recommend\"].sum()\n",
    "    top_3_developers = developer_recommendations.nlargest(3)\n",
    "\n",
    "    top_developers_list = []\n",
    "    for rank, (developer, count) in enumerate(top_3_developers.items(), start=1):\n",
    "        top_developers_list.append({\"Puesto \" + str(rank): developer})\n",
    "\n",
    "    return top_developers_list\n"
   ]
  },
  {
   "cell_type": "code",
   "execution_count": 13,
   "metadata": {},
   "outputs": [
    {
     "data": {
      "text/plain": [
       "{'message': 'Mi base de datos solo tiene registros entre 2010 y 2015'}"
      ]
     },
     "execution_count": 13,
     "metadata": {},
     "output_type": "execute_result"
    }
   ],
   "source": [
    "best_developer_year(2009)"
   ]
  },
  {
   "cell_type": "markdown",
   "metadata": {},
   "source": [
    "###Funcion 5:\n",
    "def developer_reviews_analysis( desarrolladora : str ): Según el desarrollador, se devuelve un diccionario con el nombre del desarrollador como llave y una lista con la cantidad total de registros de reseñas de usuarios que se encuentren categorizados con un análisis de sentimiento como valor positivo o negativo."
   ]
  },
  {
   "cell_type": "code",
   "execution_count": 14,
   "metadata": {},
   "outputs": [
    {
     "data": {
      "text/html": [
       "<div>\n",
       "<style scoped>\n",
       "    .dataframe tbody tr th:only-of-type {\n",
       "        vertical-align: middle;\n",
       "    }\n",
       "\n",
       "    .dataframe tbody tr th {\n",
       "        vertical-align: top;\n",
       "    }\n",
       "\n",
       "    .dataframe thead th {\n",
       "        text-align: right;\n",
       "    }\n",
       "</style>\n",
       "<table border=\"1\" class=\"dataframe\">\n",
       "  <thead>\n",
       "    <tr style=\"text-align: right;\">\n",
       "      <th></th>\n",
       "      <th>developer</th>\n",
       "      <th>sentiment_analysis</th>\n",
       "    </tr>\n",
       "  </thead>\n",
       "  <tbody>\n",
       "    <tr>\n",
       "      <th>0</th>\n",
       "      <td>Stainless Games Ltd</td>\n",
       "      <td>1</td>\n",
       "    </tr>\n",
       "    <tr>\n",
       "      <th>1</th>\n",
       "      <td>Valve</td>\n",
       "      <td>1</td>\n",
       "    </tr>\n",
       "    <tr>\n",
       "      <th>2</th>\n",
       "      <td>Valve</td>\n",
       "      <td>0</td>\n",
       "    </tr>\n",
       "    <tr>\n",
       "      <th>3</th>\n",
       "      <td>Valve</td>\n",
       "      <td>1</td>\n",
       "    </tr>\n",
       "    <tr>\n",
       "      <th>4</th>\n",
       "      <td>Valve</td>\n",
       "      <td>2</td>\n",
       "    </tr>\n",
       "  </tbody>\n",
       "</table>\n",
       "</div>"
      ],
      "text/plain": [
       "             developer  sentiment_analysis\n",
       "0  Stainless Games Ltd                   1\n",
       "1                Valve                   1\n",
       "2                Valve                   0\n",
       "3                Valve                   1\n",
       "4                Valve                   2"
      ]
     },
     "execution_count": 14,
     "metadata": {},
     "output_type": "execute_result"
    }
   ],
   "source": [
    "#Leemos el archivo reviews.parquet en un DataFrame\n",
    "df_EP5 = pq.read_table(\"5desarrolladora.parquet\").to_pandas()\n",
    "df_EP5.head(5)"
   ]
  },
  {
   "cell_type": "code",
   "execution_count": 15,
   "metadata": {},
   "outputs": [
    {
     "data": {
      "text/html": [
       "<div>\n",
       "<style scoped>\n",
       "    .dataframe tbody tr th:only-of-type {\n",
       "        vertical-align: middle;\n",
       "    }\n",
       "\n",
       "    .dataframe tbody tr th {\n",
       "        vertical-align: top;\n",
       "    }\n",
       "\n",
       "    .dataframe thead th {\n",
       "        text-align: right;\n",
       "    }\n",
       "</style>\n",
       "<table border=\"1\" class=\"dataframe\">\n",
       "  <thead>\n",
       "    <tr style=\"text-align: right;\">\n",
       "      <th></th>\n",
       "      <th>developer</th>\n",
       "      <th>sentiment_analysis</th>\n",
       "    </tr>\n",
       "  </thead>\n",
       "  <tbody>\n",
       "    <tr>\n",
       "      <th>64</th>\n",
       "      <td>Outerlight Ltd.</td>\n",
       "      <td>2</td>\n",
       "    </tr>\n",
       "    <tr>\n",
       "      <th>66</th>\n",
       "      <td>Outerlight Ltd.</td>\n",
       "      <td>2</td>\n",
       "    </tr>\n",
       "    <tr>\n",
       "      <th>67</th>\n",
       "      <td>Outerlight Ltd.</td>\n",
       "      <td>2</td>\n",
       "    </tr>\n",
       "    <tr>\n",
       "      <th>69</th>\n",
       "      <td>Outerlight Ltd.</td>\n",
       "      <td>2</td>\n",
       "    </tr>\n",
       "    <tr>\n",
       "      <th>70</th>\n",
       "      <td>Outerlight Ltd.</td>\n",
       "      <td>2</td>\n",
       "    </tr>\n",
       "    <tr>\n",
       "      <th>74</th>\n",
       "      <td>Outerlight Ltd.</td>\n",
       "      <td>2</td>\n",
       "    </tr>\n",
       "    <tr>\n",
       "      <th>75</th>\n",
       "      <td>Outerlight Ltd.</td>\n",
       "      <td>2</td>\n",
       "    </tr>\n",
       "    <tr>\n",
       "      <th>76</th>\n",
       "      <td>Outerlight Ltd.</td>\n",
       "      <td>2</td>\n",
       "    </tr>\n",
       "    <tr>\n",
       "      <th>77</th>\n",
       "      <td>Outerlight Ltd.</td>\n",
       "      <td>2</td>\n",
       "    </tr>\n",
       "    <tr>\n",
       "      <th>78</th>\n",
       "      <td>Outerlight Ltd.</td>\n",
       "      <td>2</td>\n",
       "    </tr>\n",
       "    <tr>\n",
       "      <th>80</th>\n",
       "      <td>Outerlight Ltd.</td>\n",
       "      <td>2</td>\n",
       "    </tr>\n",
       "    <tr>\n",
       "      <th>81</th>\n",
       "      <td>Outerlight Ltd.</td>\n",
       "      <td>2</td>\n",
       "    </tr>\n",
       "    <tr>\n",
       "      <th>82</th>\n",
       "      <td>Outerlight Ltd.</td>\n",
       "      <td>2</td>\n",
       "    </tr>\n",
       "    <tr>\n",
       "      <th>95</th>\n",
       "      <td>Outerlight Ltd.</td>\n",
       "      <td>2</td>\n",
       "    </tr>\n",
       "    <tr>\n",
       "      <th>96</th>\n",
       "      <td>Outerlight Ltd.</td>\n",
       "      <td>2</td>\n",
       "    </tr>\n",
       "    <tr>\n",
       "      <th>43107</th>\n",
       "      <td>Outerlight Ltd.</td>\n",
       "      <td>2</td>\n",
       "    </tr>\n",
       "    <tr>\n",
       "      <th>43108</th>\n",
       "      <td>Outerlight Ltd.</td>\n",
       "      <td>2</td>\n",
       "    </tr>\n",
       "    <tr>\n",
       "      <th>43110</th>\n",
       "      <td>Outerlight Ltd.</td>\n",
       "      <td>2</td>\n",
       "    </tr>\n",
       "  </tbody>\n",
       "</table>\n",
       "</div>"
      ],
      "text/plain": [
       "             developer  sentiment_analysis\n",
       "64     Outerlight Ltd.                   2\n",
       "66     Outerlight Ltd.                   2\n",
       "67     Outerlight Ltd.                   2\n",
       "69     Outerlight Ltd.                   2\n",
       "70     Outerlight Ltd.                   2\n",
       "74     Outerlight Ltd.                   2\n",
       "75     Outerlight Ltd.                   2\n",
       "76     Outerlight Ltd.                   2\n",
       "77     Outerlight Ltd.                   2\n",
       "78     Outerlight Ltd.                   2\n",
       "80     Outerlight Ltd.                   2\n",
       "81     Outerlight Ltd.                   2\n",
       "82     Outerlight Ltd.                   2\n",
       "95     Outerlight Ltd.                   2\n",
       "96     Outerlight Ltd.                   2\n",
       "43107  Outerlight Ltd.                   2\n",
       "43108  Outerlight Ltd.                   2\n",
       "43110  Outerlight Ltd.                   2"
      ]
     },
     "execution_count": 15,
     "metadata": {},
     "output_type": "execute_result"
    }
   ],
   "source": [
    "df_filtered_developer = df_EP5[(df_EP5['developer'] == 'Outerlight Ltd.') & (df_EP5['sentiment_analysis'] != 1)]\n",
    "df = df_filtered_developer[df_filtered_developer.sentiment_analysis == 2]\n",
    "df"
   ]
  },
  {
   "cell_type": "code",
   "execution_count": 16,
   "metadata": {},
   "outputs": [
    {
     "data": {
      "text/html": [
       "<div>\n",
       "<style scoped>\n",
       "    .dataframe tbody tr th:only-of-type {\n",
       "        vertical-align: middle;\n",
       "    }\n",
       "\n",
       "    .dataframe tbody tr th {\n",
       "        vertical-align: top;\n",
       "    }\n",
       "\n",
       "    .dataframe thead th {\n",
       "        text-align: right;\n",
       "    }\n",
       "</style>\n",
       "<table border=\"1\" class=\"dataframe\">\n",
       "  <thead>\n",
       "    <tr style=\"text-align: right;\">\n",
       "      <th></th>\n",
       "      <th>developer</th>\n",
       "      <th>sentiment_analysis</th>\n",
       "    </tr>\n",
       "  </thead>\n",
       "  <tbody>\n",
       "    <tr>\n",
       "      <th>63</th>\n",
       "      <td>Outerlight Ltd.</td>\n",
       "      <td>0</td>\n",
       "    </tr>\n",
       "    <tr>\n",
       "      <th>65</th>\n",
       "      <td>Outerlight Ltd.</td>\n",
       "      <td>0</td>\n",
       "    </tr>\n",
       "    <tr>\n",
       "      <th>68</th>\n",
       "      <td>Outerlight Ltd.</td>\n",
       "      <td>0</td>\n",
       "    </tr>\n",
       "    <tr>\n",
       "      <th>73</th>\n",
       "      <td>Outerlight Ltd.</td>\n",
       "      <td>0</td>\n",
       "    </tr>\n",
       "    <tr>\n",
       "      <th>79</th>\n",
       "      <td>Outerlight Ltd.</td>\n",
       "      <td>0</td>\n",
       "    </tr>\n",
       "    <tr>\n",
       "      <th>84</th>\n",
       "      <td>Outerlight Ltd.</td>\n",
       "      <td>0</td>\n",
       "    </tr>\n",
       "    <tr>\n",
       "      <th>85</th>\n",
       "      <td>Outerlight Ltd.</td>\n",
       "      <td>0</td>\n",
       "    </tr>\n",
       "    <tr>\n",
       "      <th>43109</th>\n",
       "      <td>Outerlight Ltd.</td>\n",
       "      <td>0</td>\n",
       "    </tr>\n",
       "  </tbody>\n",
       "</table>\n",
       "</div>"
      ],
      "text/plain": [
       "             developer  sentiment_analysis\n",
       "63     Outerlight Ltd.                   0\n",
       "65     Outerlight Ltd.                   0\n",
       "68     Outerlight Ltd.                   0\n",
       "73     Outerlight Ltd.                   0\n",
       "79     Outerlight Ltd.                   0\n",
       "84     Outerlight Ltd.                   0\n",
       "85     Outerlight Ltd.                   0\n",
       "43109  Outerlight Ltd.                   0"
      ]
     },
     "execution_count": 16,
     "metadata": {},
     "output_type": "execute_result"
    }
   ],
   "source": [
    "df2 = df_filtered_developer[df_filtered_developer.sentiment_analysis == 0]\n",
    "df2"
   ]
  },
  {
   "cell_type": "code",
   "execution_count": 17,
   "metadata": {},
   "outputs": [],
   "source": [
    "def developer_reviews_analysis(desarrolladora):#: str, df_games_and_reviews: pd.DataFrame):\n",
    "    # Filtramos por desarrolladora\n",
    "    df_filt_developer = df_EP5[(df_EP5['developer'] == desarrolladora) & (df_EP5['sentiment_analysis'] != 1)]\n",
    "    # Verificamos que haya datos para la desarrolladora\n",
    "    if not df_filt_developer.empty:\n",
    "        # Contamos los sentimientos y mapeamos el número del sentimiento a su etiqueta correspondiente\n",
    "        sentiment_counts = df_filt_developer['sentiment_analysis'].value_counts()\n",
    "        sentiment_mapping = {0: 'Negative', 2: 'Positive'}\n",
    "        sentiment_counts.index = sentiment_counts.index.map(sentiment_mapping)\n",
    "        \n",
    "        result = {desarrolladora: sentiment_counts.to_dict()}\n",
    "    else:\n",
    "        result = 'No cuento con los registros de esa empresa en mi base de datos'\n",
    "\n",
    "    return result"
   ]
  },
  {
   "cell_type": "code",
   "execution_count": 18,
   "metadata": {},
   "outputs": [
    {
     "data": {
      "text/plain": [
       "{'Valve': {'Positive': 5277, 'Negative': 556}}"
      ]
     },
     "execution_count": 18,
     "metadata": {},
     "output_type": "execute_result"
    }
   ],
   "source": [
    "developer_reviews_analysis('Valve')"
   ]
  },
  {
   "cell_type": "code",
   "execution_count": 19,
   "metadata": {},
   "outputs": [
    {
     "data": {
      "text/plain": [
       "array(['Stainless Games Ltd', 'Valve', 'Outerlight Ltd.', 'GlyphX Games',\n",
       "       'Introversion Software', 'Facepunch Studios', 'Deepred',\n",
       "       'Bugbear Entertainment', 'Funcom',\n",
       "       'Firaxis Games,Feral Interactive (Mac)',\n",
       "       'Crystal Dynamics,Feral Interactive (Mac)', 'CAPCOM Co., Ltd.',\n",
       "       'id Software', 'Freegamer', 'Gray Matter Studios'], dtype=object)"
      ]
     },
     "execution_count": 19,
     "metadata": {},
     "output_type": "execute_result"
    }
   ],
   "source": [
    "df_EP5.developer.unique()[:15]"
   ]
  }
 ],
 "metadata": {
  "kernelspec": {
   "display_name": "Python 3",
   "language": "python",
   "name": "python3"
  },
  "language_info": {
   "codemirror_mode": {
    "name": "ipython",
    "version": 3
   },
   "file_extension": ".py",
   "mimetype": "text/x-python",
   "name": "python",
   "nbconvert_exporter": "python",
   "pygments_lexer": "ipython3",
   "version": "3.11.6"
  }
 },
 "nbformat": 4,
 "nbformat_minor": 2
}
